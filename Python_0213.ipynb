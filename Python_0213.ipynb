{
  "nbformat": 4,
  "nbformat_minor": 0,
  "metadata": {
    "colab": {
      "name": "Python 0213",
      "provenance": [],
      "authorship_tag": "ABX9TyO4Ai6XT+pJQxROTwEd3FVP",
      "include_colab_link": true
    },
    "kernelspec": {
      "name": "python3",
      "display_name": "Python 3"
    },
    "language_info": {
      "name": "python"
    }
  },
  "cells": [
    {
      "cell_type": "markdown",
      "metadata": {
        "id": "view-in-github",
        "colab_type": "text"
      },
      "source": [
        "<a href=\"https://colab.research.google.com/github/Limdongkeun/Python-Basic-class/blob/main/Python_0213.ipynb\" target=\"_parent\"><img src=\"https://colab.research.google.com/assets/colab-badge.svg\" alt=\"Open In Colab\"/></a>"
      ]
    },
    {
      "cell_type": "code",
      "execution_count": null,
      "metadata": {
        "id": "EgF5SOXxpNI3"
      },
      "outputs": [],
      "source": [
        "print('Hello World')"
      ]
    },
    {
      "cell_type": "code",
      "source": [
        "import math\n",
        "\n",
        "def get_area(radius):\n",
        "  \"\"\"dddddd\"\"\"\n",
        "  area = math.pi * math.pow(radius,2)\n",
        "  return area\n",
        "\n",
        "  radius = 1.5\n",
        "  area = get_area(radius)\n",
        "  print(area)\n",
        "  print(get_area.__doc__)"
      ],
      "metadata": {
        "id": "DiniLEpyyKRR"
      },
      "execution_count": 6,
      "outputs": []
    },
    {
      "cell_type": "code",
      "source": [
        "# 변수 variable\n",
        "\n",
        "# 어떤 데이터를 저장할 떄 사용되는 저장소\n",
        "\n",
        "# score = 100 #scoer라는 이름의 변수에 100을 넣는다\n",
        "# print(score)\n",
        "\n",
        "# 변수 이름 생성 규칙\n",
        "# 1. 영문, 한글, 숫자, 밑줄로 구성(한글은 변수명으로 사용하지 말자)\n",
        "# 2. 특수문자는 사용할 수 없다\n",
        "# 3. 대문자와 소문자는 구분한다 \n",
        "# 4. 첫문자에 숫자는 쓸 수 없다\n",
        "# 5. 예약어는 사용 불가"
      ],
      "metadata": {
        "colab": {
          "base_uri": "https://localhost:8080/"
        },
        "id": "CbMKl7VJ2NOb",
        "outputId": "7f6fd483-791c-47c3-e109-4e7d412f0874"
      },
      "execution_count": 7,
      "outputs": [
        {
          "output_type": "stream",
          "name": "stdout",
          "text": [
            "100\n"
          ]
        }
      ]
    }
  ]
}