{
  "nbformat": 4,
  "nbformat_minor": 0,
  "metadata": {
    "colab": {
      "name": "python 0126",
      "provenance": [],
      "authorship_tag": "ABX9TyPUA+ApzJMhs1UevUkks7yE",
      "include_colab_link": true
    },
    "kernelspec": {
      "name": "python3",
      "display_name": "Python 3"
    },
    "language_info": {
      "name": "python"
    }
  },
  "cells": [
    {
      "cell_type": "markdown",
      "metadata": {
        "id": "view-in-github",
        "colab_type": "text"
      },
      "source": [
        "<a href=\"https://colab.research.google.com/github/Limdongkeun/Python-Basic-class/blob/main/python_0126.ipynb\" target=\"_parent\"><img src=\"https://colab.research.google.com/assets/colab-badge.svg\" alt=\"Open In Colab\"/></a>"
      ]
    },
    {
      "cell_type": "code",
      "execution_count": 19,
      "metadata": {
        "id": "-Gai14EB5Juy",
        "colab": {
          "base_uri": "https://localhost:8080/"
        },
        "outputId": "0da66180-8b59-4ce0-8986-e068d6aa9e09"
      },
      "outputs": [
        {
          "output_type": "execute_result",
          "data": {
            "text/plain": [
              "True"
            ]
          },
          "metadata": {},
          "execution_count": 19
        }
      ],
      "source": [
        "정수 int\n",
        "m = 10\n",
        "print(m)\n",
        "\n",
        "논리 bool\n",
        "True/False\n",
        "bool(0) #False\n",
        "bool(1) #True\n",
        "bool('') #False\n",
        "bool('1') #True\n",
        "bool([]) #False\n",
        "bool(['123']) #True\n",
        "\n",
        "실수 float\n",
        "\n",
        "문자열 str / string\n",
        "a ='한국'\n",
        "b = \"한국\"\n",
        "print(a)\n",
        "print(b)\n",
        "\n",
        "a = '''대한 \n",
        "민국 '''\n",
        "\n",
        "b = \"\"\"대한\n",
        "민국\"\"\"\n",
        "print(a)\n",
        "print(b)\n",
        "\n",
        "str(124)\n",
        "bool(str('12'))\n",
        "\n",
        "input('숫자 입력') #input은 모든 입력을 문자로만 받는다\n",
        "int(input('숫자 입력')) # 바로 숫자로 나오도록"
      ]
    },
    {
      "cell_type": "code",
      "source": [
        "# 문자열 인덱싱(indexing)\n"
      ],
      "metadata": {
        "id": "mXfJKD-rIjFE"
      },
      "execution_count": null,
      "outputs": []
    }
  ]
}