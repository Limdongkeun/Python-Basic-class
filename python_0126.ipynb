{
  "nbformat": 4,
  "nbformat_minor": 0,
  "metadata": {
    "colab": {
      "name": "python 0126",
      "provenance": [],
      "authorship_tag": "ABX9TyPpybNFKgoNRmD/pNtPD+3l",
      "include_colab_link": true
    },
    "kernelspec": {
      "name": "python3",
      "display_name": "Python 3"
    },
    "language_info": {
      "name": "python"
    }
  },
  "cells": [
    {
      "cell_type": "markdown",
      "metadata": {
        "id": "view-in-github",
        "colab_type": "text"
      },
      "source": [
        "<a href=\"https://colab.research.google.com/github/Limdongkeun/Python-Basic-class/blob/main/python_0126.ipynb\" target=\"_parent\"><img src=\"https://colab.research.google.com/assets/colab-badge.svg\" alt=\"Open In Colab\"/></a>"
      ]
    },
    {
      "cell_type": "code",
      "execution_count": 19,
      "metadata": {
        "id": "-Gai14EB5Juy",
        "colab": {
          "base_uri": "https://localhost:8080/"
        },
        "outputId": "0da66180-8b59-4ce0-8986-e068d6aa9e09"
      },
      "outputs": [
        {
          "output_type": "execute_result",
          "data": {
            "text/plain": [
              "True"
            ]
          },
          "metadata": {},
          "execution_count": 19
        }
      ],
      "source": [
        "정수 int\n",
        "m = 10\n",
        "print(m)\n",
        "\n",
        "논리 bool\n",
        "True/False\n",
        "bool(0) #False\n",
        "bool(1) #True\n",
        "bool('') #False\n",
        "bool('1') #True\n",
        "bool([]) #False\n",
        "bool(['123']) #True\n",
        "\n",
        "실수 float\n",
        "\n",
        "문자열 str / string\n",
        "a ='한국'\n",
        "b = \"한국\"\n",
        "print(a)\n",
        "print(b)\n",
        "\n",
        "a = '''대한 \n",
        "민국 '''\n",
        "\n",
        "b = \"\"\"대한\n",
        "민국\"\"\"\n",
        "print(a)\n",
        "print(b)\n",
        "\n",
        "str(124)\n",
        "bool(str('12'))\n",
        "\n",
        "input('숫자 입력') #input은 모든 입력을 문자로만 받는다\n",
        "int(input('숫자 입력')) # 바로 숫자로 나오도록"
      ]
    },
    {
      "cell_type": "code",
      "source": [
        "# 문자열 인덱싱(indexing)\n",
        "# 인덱싱은 문자열을 구성하는 모든 문자에 부여하는 고유 번호이다\n",
        "\n",
        "s = 'hello'\n",
        "print(s[0])\n",
        "\n",
        "s = 'hello'\n",
        "print(s[-1])"
      ],
      "metadata": {
        "colab": {
          "base_uri": "https://localhost:8080/"
        },
        "id": "mXfJKD-rIjFE",
        "outputId": "76f6c1a4-e2a3-4b16-cc34-f4f338163d6f"
      },
      "execution_count": 22,
      "outputs": [
        {
          "output_type": "stream",
          "name": "stdout",
          "text": [
            "h\n",
            "o\n"
          ]
        }
      ]
    },
    {
      "cell_type": "code",
      "source": [
        "#문자열 slicing\n",
        "#문자열의 인덱스를 사용하여 한문자 이상으로 구성된 단어나 문장을 추출\n",
        "\n",
        "s = 'banana'\n",
        "s[0:3] #[시작:끝 전] 끝 전은 6이면 5까지 나온다 (미만)\n",
        "\n",
        "addr = '서울시 강남구 역삼동 1번지'\n",
        "print(addr[6])\n",
        "print(addr[4:7])"
      ],
      "metadata": {
        "colab": {
          "base_uri": "https://localhost:8080/"
        },
        "id": "KzNF_xCnOlcw",
        "outputId": "3a9bbd9e-785c-412a-be54-4b43ca8566d4"
      },
      "execution_count": 26,
      "outputs": [
        {
          "output_type": "stream",
          "name": "stdout",
          "text": [
            "구\n",
            "강남구\n"
          ]
        }
      ]
    },
    {
      "cell_type": "code",
      "source": [
        "#컬렉션 Collection\n",
        "#여러 값을 하나의 이름으로 묶어서 관리하는 자료형\n",
        "#\blist tuple dict set"
      ],
      "metadata": {
        "id": "U4lvxzDBQXoe"
      },
      "execution_count": null,
      "outputs": []
    },
    {
      "cell_type": "code",
      "source": [
        "# list\n",
        "# list는 여러 값을 저장할 떄 가장 많이 사용되는 자료형\n",
        "# 특징\n",
        "# -대괄호로 생성 []\n",
        "# -여러가지 자료형을 하나의 리스트로 생성할 수 있다\n",
        "# mutable한 속성을 갖는다 (수정, 삭제가 가능하다)\n",
        "# indexing, slicing이 가능\n",
        "\n",
        "list1 = [1,2,3,4]\n",
        "list2 = [1,2,3,'대','한',True]\n",
        "\n",
        "#list indexing\n",
        "li =[100, 3.14, 'hello']\n",
        "li[0]\n",
        "li[1]\n",
        "li[2]\n",
        "\n",
        "#list slicing\n",
        "li[0:3]\n"
      ],
      "metadata": {
        "colab": {
          "base_uri": "https://localhost:8080/"
        },
        "id": "G0p0sCSZRFGO",
        "outputId": "199e5766-6b85-402c-b995-61ff474a0610"
      },
      "execution_count": 33,
      "outputs": [
        {
          "output_type": "execute_result",
          "data": {
            "text/plain": [
              "[100, 3.14, 'hello']"
            ]
          },
          "metadata": {},
          "execution_count": 33
        }
      ]
    },
    {
      "cell_type": "code",
      "source": [
        "#삽입\n",
        "#.append() : list에 추가 //값을 추가할때()\n",
        "score =[50,40,30]\n",
        "score.append(100) \n",
        "score\n",
        "\n",
        "#insert() : list에 데이터를 추가 /  특정 위치에 데이터 추가 (위치 : 데이터값)\n",
        "score.insert(0,90)\n",
        "score\n",
        "\n",
        "#삭제\n",
        "#.pop() : list에서 데이터 삭제\n",
        "score =[50,40,30]\n",
        "score.pop() #pop() - ()안에를 생략하면 마지막 값을 삭제\n",
        "score\n",
        "\n",
        "score.pop(1)\n",
        "score\n",
        "\n",
        "li =[1]\n",
        "print(li)\n",
        "print(type(li))"
      ],
      "metadata": {
        "colab": {
          "base_uri": "https://localhost:8080/"
        },
        "id": "TTtvKULhVixN",
        "outputId": "8353efcc-f584-42c6-b49f-35adad97f547"
      },
      "execution_count": 49,
      "outputs": [
        {
          "output_type": "stream",
          "name": "stdout",
          "text": [
            "[1]\n",
            "<class 'list'>\n"
          ]
        }
      ]
    },
    {
      "cell_type": "code",
      "source": [
        "# tuple\n",
        "# 저장된 값을 변경, 삭제할 수 없는 리스트 \n",
        "\n",
        "# 특징\n",
        "# 소괄호로 생성 tuple은 괄호 생략가능\n",
        "# 여러가지 자료형을 하나의 tuple로 생생할 수 있다\n",
        "# immutable한 속성을 갖는다(수정, 삭제 불가능)\n",
        "# indexing, slicing은 가능\n",
        "# 1개의 원소를 갖는 튜플을 생성할떄는 , 쉼표를 붙인다\n",
        "\n",
        "tu = (1,)\n",
        "print(tu)\n",
        "print(type(tu))\n",
        "\n",
        "tu = 1,2,3,4,5 #괄호 생략 가능\n",
        "type(tu)\n",
        "\n",
        "tu = 1,2,3,4,5\n",
        "tu[0]\n",
        "tu[0:4]"
      ],
      "metadata": {
        "colab": {
          "base_uri": "https://localhost:8080/"
        },
        "id": "ezMIapASauo1",
        "outputId": "548e6e8d-ecf6-427a-fd4e-92970a0180ee"
      },
      "execution_count": 52,
      "outputs": [
        {
          "output_type": "stream",
          "name": "stdout",
          "text": [
            "(1,)\n",
            "<class 'tuple'>\n"
          ]
        },
        {
          "output_type": "execute_result",
          "data": {
            "text/plain": [
              "(1, 2, 3, 4)"
            ]
          },
          "metadata": {},
          "execution_count": 52
        }
      ]
    },
    {
      "cell_type": "code",
      "source": [
        "#set\n",
        "# 중괄호로 생성 {}\n",
        "# 여러가지 자료형을 하나의 set으로 생성\n",
        "# mutable한 속성을 갖는다 (수정, 삭제가 가능하다)\n",
        "# indexing, slicing은 불가능 - 순서가 없다\n",
        "# 중복된(동일한) 데이터를 함께 저장할 수 없다 (중복 불가능)\n",
        "\n",
        "set ={1,1,1,2,2,3} #중복되면 날리고 출력\n",
        "set\n",
        "\n",
        "set.add(4)\n",
        "set\n",
        "\n",
        "set.remove(3)\n",
        "set"
      ],
      "metadata": {
        "colab": {
          "base_uri": "https://localhost:8080/"
        },
        "id": "bjB3dAOseOTo",
        "outputId": "b2006832-78ac-4d90-9d2f-dfe77ea3b8bd"
      },
      "execution_count": 56,
      "outputs": [
        {
          "output_type": "execute_result",
          "data": {
            "text/plain": [
              "{1, 2, 4}"
            ]
          },
          "metadata": {},
          "execution_count": 56
        }
      ]
    },
    {
      "cell_type": "code",
      "source": [
        "#dict : 키값과 벨류값을 싸을로 데이터를 저장하는 자료형\n",
        "# java에서의 map, js에서의 json 과 유사함\n",
        "#중괄호로 생석 {}\n",
        "# 여러가지 자료형을 하나의 dict으로 생성\n",
        "# mutable한 속성을 갖는다 (수정, 삭제가 가능하다)\n",
        "# indexing, slicing은 불가능 - 순서가 없다\n",
        "# 키와 벨류로 구성\n",
        "\n",
        "\n",
        "\n",
        "dict = {'name':'hi', 'age' : 27} #{'키값' : '벨류값'}\n",
        "\n",
        "d = {'a':'apple', 'b': 'banana'}\n",
        "d['a'] # 키값에 대한 벨류값을 뽑을 수 있다\n",
        "\n",
        "d['c'] = 'cherry' #키값으로 추가할 수 있다\n",
        "d\n",
        "\n",
        "d['c'] ='체리'\n",
        "d\n",
        "\n",
        "d.pop('c')\n",
        "d"
      ],
      "metadata": {
        "colab": {
          "base_uri": "https://localhost:8080/"
        },
        "id": "0aIun2JGgNyK",
        "outputId": "e7881c29-7e4f-4c54-ace6-55aad99cab95"
      },
      "execution_count": 64,
      "outputs": [
        {
          "output_type": "execute_result",
          "data": {
            "text/plain": [
              "{'a': 'apple', 'b': 'banana'}"
            ]
          },
          "metadata": {},
          "execution_count": 64
        }
      ]
    },
    {
      "cell_type": "code",
      "source": [
        "# mutable : list, set, dict\n",
        "# immutable : tuple, int, float, str\n",
        "\n",
        "#mutable\n",
        "me = [1,2,3]\n",
        "id(me) #실제 데이터가 저장된 메모리 위치\n",
        "\n",
        "me.append(4) #메모리 위치는 동일\n",
        "id(me)\n",
        "\n",
        "# immutable\n",
        "me =10\n",
        "id(me)\n",
        "\n",
        "me += 1 #메모리 주고가 바뀜\n",
        "id(me)"
      ],
      "metadata": {
        "colab": {
          "base_uri": "https://localhost:8080/"
        },
        "id": "ht_tqUJxjJE0",
        "outputId": "d4a040c5-f9fa-4979-dbb3-af56e890b3b9"
      },
      "execution_count": 70,
      "outputs": [
        {
          "output_type": "execute_result",
          "data": {
            "text/plain": [
              "94834891029312"
            ]
          },
          "metadata": {},
          "execution_count": 70
        }
      ]
    }
  ]
}