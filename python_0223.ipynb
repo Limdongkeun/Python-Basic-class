{
  "nbformat": 4,
  "nbformat_minor": 0,
  "metadata": {
    "colab": {
      "name": "python 0223.ipynb",
      "provenance": [],
      "collapsed_sections": [],
      "authorship_tag": "ABX9TyPwPbLp9/oon4w6T/ZDghi/",
      "include_colab_link": true
    },
    "kernelspec": {
      "name": "python3",
      "display_name": "Python 3"
    },
    "language_info": {
      "name": "python"
    }
  },
  "cells": [
    {
      "cell_type": "markdown",
      "metadata": {
        "id": "view-in-github",
        "colab_type": "text"
      },
      "source": [
        "<a href=\"https://colab.research.google.com/github/Limdongkeun/Python-Basic-class/blob/main/python_0223.ipynb\" target=\"_parent\"><img src=\"https://colab.research.google.com/assets/colab-badge.svg\" alt=\"Open In Colab\"/></a>"
      ]
    },
    {
      "cell_type": "code",
      "execution_count": 41,
      "metadata": {
        "colab": {
          "base_uri": "https://localhost:8080/"
        },
        "id": "1QrfPdYq9XeY",
        "outputId": "ea2088d1-12c1-4f7a-a0fc-19c21d29b667"
      },
      "outputs": [
        {
          "output_type": "stream",
          "name": "stdout",
          "text": [
            "43\n",
            "312\n",
            "합격\n"
          ]
        }
      ],
      "source": [
        "# 조건문 if\n",
        "#조건문은 특정 조건을 만족하는지 여부에 따라 실행되는 코드가 달라짐\n",
        "\n",
        "# a = 1\n",
        "# if a>2:\n",
        "#   print('양수')\n",
        "# else:\n",
        "#   print('아닝')\n",
        "\n",
        "# a = int(input())\n",
        "# if a>1:\n",
        "#   print('확인')\n",
        "\n",
        "\n",
        "a = int(input())\n",
        "b = int(input())\n",
        "\n",
        "c = a+b\n",
        "\n",
        "if c>=20:\n",
        "  print('합격')\n",
        "elif c==10:\n",
        "  print('노노')\n",
        "else:\n",
        "  print('aa')"
      ]
    },
    {
      "cell_type": "code",
      "source": [
        "# a = int(input())\n",
        "\n",
        "# if a>=90:\n",
        "#   print('A')\n",
        "# elif a>=80:\n",
        "#   print('B')\n",
        "# elif a>=60:\n",
        "#   print('C')\n",
        "# else:\n",
        "#   print('D')\n",
        "\n",
        "\n",
        "a = int(input())\n",
        "\n",
        "if a>=90:\n",
        "  hak ='A'\n",
        "elif a>=80:\n",
        "  hak ='B'\n",
        "elif a>=60:\n",
        "  hak ='C'\n",
        "else:\n",
        "  hak ='D'\n",
        "print(f'점수는{a}, 학점은{hak}')\n",
        "\n"
      ],
      "metadata": {
        "colab": {
          "base_uri": "https://localhost:8080/"
        },
        "id": "PBz5z0omLEAZ",
        "outputId": "cb009050-4a73-438e-d55b-a48f8e25d35a"
      },
      "execution_count": 17,
      "outputs": [
        {
          "output_type": "stream",
          "name": "stdout",
          "text": [
            "91\n",
            "점수는91, 학점은A\n"
          ]
        }
      ]
    },
    {
      "cell_type": "code",
      "source": [
        "num = int(input())\n",
        "if num%3 == 0:\n",
        "  print('3의배수')\n",
        "else:\n",
        "  print('아니야')"
      ],
      "metadata": {
        "colab": {
          "base_uri": "https://localhost:8080/"
        },
        "id": "b3DIMsC4NSS9",
        "outputId": "dad22147-4457-4849-e86d-ed75748fc003"
      },
      "execution_count": 28,
      "outputs": [
        {
          "output_type": "stream",
          "name": "stdout",
          "text": [
            "10\n",
            "아니야\n"
          ]
        }
      ]
    },
    {
      "cell_type": "code",
      "source": [
        "num1 = int(input())\n",
        "num2 = int(input())\n",
        "num3 = int(input())\n",
        "\n",
        "# if num1 > num2:\n",
        "#   print(num1)\n",
        "# elif num2 > num3:\n",
        "#   print(num2)\n",
        "# elif num3 > num1:\n",
        "#   print(num3)\n",
        "\n",
        "\n",
        "if num1>num2 and num1>num3:\n",
        "  print(f'가장 큰 수는 {num1}')\n",
        "elif num2>num1 and num2>num3:\n",
        "  print(f'가장 큰 수는 {num2}')\n",
        "else:\n",
        "  print(f'가장 큰 수는{num3}')\n",
        "\n",
        "# -----------------------------\n",
        "\n",
        "if num1>num2 and num1>num3:\n",
        "  max = num1\n",
        "elif num2>num1 and num2>num3:\n",
        "  max = num2\n",
        "else:\n",
        "  max = num3\n",
        "print(f'가장 큰 수는{max}')"
      ],
      "metadata": {
        "colab": {
          "base_uri": "https://localhost:8080/"
        },
        "id": "qTcC4IpMNUFS",
        "outputId": "41bee91c-7ea6-4441-cbef-1b9b81f68e25"
      },
      "execution_count": 33,
      "outputs": [
        {
          "output_type": "stream",
          "name": "stdout",
          "text": [
            "1\n",
            "2\n",
            "3\n",
            "가장 큰 수는3\n",
            "가장 큰 수는3\n"
          ]
        }
      ]
    },
    {
      "cell_type": "code",
      "source": [
        "car = input()\n",
        "\n",
        "if int(car[-1])%2 == 0:\n",
        "  print('운행가능')\n",
        "else:\n",
        "  print('불가능')"
      ],
      "metadata": {
        "colab": {
          "base_uri": "https://localhost:8080/"
        },
        "id": "rtxFYrXSQzCK",
        "outputId": "607f387c-9406-4db0-cdb0-36e424f9e99e"
      },
      "execution_count": 38,
      "outputs": [
        {
          "output_type": "stream",
          "name": "stdout",
          "text": [
            "124가3333\n",
            "불가능\n"
          ]
        }
      ]
    },
    {
      "cell_type": "code",
      "source": [
        "#반복문\n",
        "# while - 반복 횟수가 불명할때 주로 사용\n",
        "# for - 반복 횟수가 명확할때 주로 사용"
      ],
      "metadata": {
        "id": "n_uPYL2xVL36"
      },
      "execution_count": null,
      "outputs": []
    },
    {
      "cell_type": "code",
      "source": [
        "#while\n",
        "\n",
        "# while True: # 무한루프\n",
        "#   print('hello python')\n",
        "\n",
        "n = 1\n",
        "while n <=10:\n",
        "  print(n)\n",
        "  n += 1 #12345678910\n",
        "\n",
        "n = 10\n",
        "while n >= 1:\n",
        "  print(n)\n",
        "  n -= 1 #10987654321\n",
        "\n",
        "  "
      ],
      "metadata": {
        "id": "vuhCV12bWh1y"
      },
      "execution_count": null,
      "outputs": []
    },
    {
      "cell_type": "code",
      "source": [
        "day = 1\n",
        "while day <= 5:\n",
        "  hour = 1\n",
        "  while hour <= 3:\n",
        "    print(f'{day}일차 {hour}입니다')\n",
        "    hour +=1\n",
        "    day +=1"
      ],
      "metadata": {
        "colab": {
          "base_uri": "https://localhost:8080/"
        },
        "id": "Pb5wu4wiXaKa",
        "outputId": "6dfe6c2c-0801-4c62-d019-e6ea5c18718a"
      },
      "execution_count": 42,
      "outputs": [
        {
          "output_type": "stream",
          "name": "stdout",
          "text": [
            "1일차 1입니다\n",
            "2일차 2입니다\n",
            "3일차 3입니다\n",
            "4일차 1입니다\n",
            "5일차 2입니다\n",
            "6일차 3입니다\n"
          ]
        }
      ]
    },
    {
      "cell_type": "code",
      "source": [
        "a = int(input())\n",
        "\n",
        "if a<=0:\n",
        "  print('잘못')\n",
        "else:\n",
        "  n = 0\n",
        "  while a > n:\n",
        "    print(f'{n+1}번째 hello')\n",
        "    n +=1\n",
        "    "
      ],
      "metadata": {
        "colab": {
          "base_uri": "https://localhost:8080/"
        },
        "id": "ArxFr9KrX75Y",
        "outputId": "e356ef68-45b2-4cac-9db3-d437d1f92096"
      },
      "execution_count": 47,
      "outputs": [
        {
          "output_type": "stream",
          "name": "stdout",
          "text": [
            "3\n",
            "1번째 hello\n",
            "2번째 hello\n",
            "3번째 hello\n"
          ]
        }
      ]
    }
  ]
}