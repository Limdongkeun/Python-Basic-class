{
  "nbformat": 4,
  "nbformat_minor": 0,
  "metadata": {
    "colab": {
      "name": "03HW20220221임동근32.ipynb",
      "provenance": [],
      "collapsed_sections": [],
      "authorship_tag": "ABX9TyNIWwXuDvpDEFQMyVw9nK3X",
      "include_colab_link": true
    },
    "kernelspec": {
      "name": "python3",
      "display_name": "Python 3"
    },
    "language_info": {
      "name": "python"
    }
  },
  "cells": [
    {
      "cell_type": "markdown",
      "metadata": {
        "id": "view-in-github",
        "colab_type": "text"
      },
      "source": [
        "<a href=\"https://colab.research.google.com/github/Limdongkeun/Python-Basic-class/blob/main/03HW20220221%EC%9E%84%EB%8F%99%EA%B7%BC32.ipynb\" target=\"_parent\"><img src=\"https://colab.research.google.com/assets/colab-badge.svg\" alt=\"Open In Colab\"/></a>"
      ]
    },
    {
      "cell_type": "code",
      "execution_count": null,
      "metadata": {
        "colab": {
          "base_uri": "https://localhost:8080/"
        },
        "id": "dnuZCFw5yP2Z",
        "outputId": "63abd55b-92ac-471c-8410-d50fb1d024a4"
      },
      "outputs": [
        {
          "output_type": "execute_result",
          "data": {
            "text/plain": [
              "dict_keys(['메로나', '비비빅', '죠스바'])"
            ]
          },
          "metadata": {},
          "execution_count": 25
        }
      ],
      "source": [
        "# 91\n",
        "inventory = {\"메로나\":[300,20], \n",
        "             \"비비빅\":[400,3], \n",
        "             \"죠스바\":[250,100]}\n",
        "\n",
        "# print(f'{inventory}')\n",
        "inventory.keys()"
      ]
    },
    {
      "cell_type": "code",
      "source": [
        "# 92\n",
        "inventory = {\"메로나\":[300,20], \n",
        "             \"비비빅\":[400,3], \n",
        "             \"죠스바\":[250,100]}\n",
        "print('메로나:', inventory['메로나'])\n",
        "print(list(inventory.values())[0][0])"
      ],
      "metadata": {
        "colab": {
          "base_uri": "https://localhost:8080/"
        },
        "id": "2pgIhA9_4RfW",
        "outputId": "1e05830d-5846-4cc6-ac31-95811779abfc"
      },
      "execution_count": null,
      "outputs": [
        {
          "output_type": "stream",
          "name": "stdout",
          "text": [
            "메로나: [300, 20]\n",
            "300\n"
          ]
        }
      ]
    },
    {
      "cell_type": "code",
      "source": [
        "# 93\n",
        "inventory = {\"메로나\":[300,20], \n",
        "             \"비비빅\":[400,3], \n",
        "             \"죠스바\":[250,100]}\n",
        "print(inventory.values())\n",
        "print(list(inventory.values())[0][1])"
      ],
      "metadata": {
        "id": "-BL1K0q24Rcv",
        "colab": {
          "base_uri": "https://localhost:8080/"
        },
        "outputId": "6e79f1c1-a5c8-4599-802f-5fb29f23d80d"
      },
      "execution_count": null,
      "outputs": [
        {
          "output_type": "stream",
          "name": "stdout",
          "text": [
            "dict_values([[300, 20], [400, 3], [250, 100]])\n",
            "20\n"
          ]
        }
      ]
    },
    {
      "cell_type": "code",
      "source": [
        "# 94\n",
        "inventory = {\"메로나\":[300,20], \n",
        "             \"비비빅\":[400,3], \n",
        "             \"죠스바\":[250,100]}\n",
        "inventory['월드콘'] = [500,7]\n",
        "print(inventory)"
      ],
      "metadata": {
        "id": "ebdwrxR-4RaJ",
        "colab": {
          "base_uri": "https://localhost:8080/"
        },
        "outputId": "2174fbf0-c519-47fc-d552-80d998e8e4c8"
      },
      "execution_count": null,
      "outputs": [
        {
          "output_type": "stream",
          "name": "stdout",
          "text": [
            "{'메로나': [300, 20], '비비빅': [400, 3], '죠스바': [250, 100], '월드콘': [500, 7]}\n"
          ]
        }
      ]
    },
    {
      "cell_type": "code",
      "source": [
        "# 95\n",
        "icecream = {'탱크보이': 1200, '폴라포': 1200, '빵빠레': 1800, '월드콘 ': 1500, '메로나': 1000}\n",
        "print(icecream.keys())"
      ],
      "metadata": {
        "id": "lZNe44nE4RXi",
        "colab": {
          "base_uri": "https://localhost:8080/"
        },
        "outputId": "8ce20e96-09d4-4eeb-cc5b-f984600b10ae"
      },
      "execution_count": null,
      "outputs": [
        {
          "output_type": "stream",
          "name": "stdout",
          "text": [
            "dict_keys(['탱크보이', '폴라포', '빵빠레', '월드콘 ', '메로나'])\n"
          ]
        }
      ]
    },
    {
      "cell_type": "code",
      "source": [
        "# 96\n",
        "icecream = {'탱크보이': 1200, '폴라포': 1200, '빵빠레': 1800, '월드콘 ': 1500, '메로나': 1000}\n",
        "print(icecream.values())"
      ],
      "metadata": {
        "id": "2D14uCi84RUt",
        "colab": {
          "base_uri": "https://localhost:8080/"
        },
        "outputId": "a2db8fa4-6367-4c58-b049-25e61019a6b3"
      },
      "execution_count": null,
      "outputs": [
        {
          "output_type": "stream",
          "name": "stdout",
          "text": [
            "dict_values([1200, 1200, 1800, 1500, 1000])\n"
          ]
        }
      ]
    },
    {
      "cell_type": "code",
      "source": [
        "# 97\n",
        "icecream = {'탱크보이': 1200, '폴라포': 1200, '빵빠레': 1800, '월드콘 ': 1500, '메로나': 1000}\n",
        "total = sum(icecream.values())\n",
        "print(total)"
      ],
      "metadata": {
        "id": "CePLAdCH4RSD",
        "colab": {
          "base_uri": "https://localhost:8080/"
        },
        "outputId": "8206faf1-ad19-4063-f270-42dac6c25126"
      },
      "execution_count": 1,
      "outputs": [
        {
          "output_type": "stream",
          "name": "stdout",
          "text": [
            "6700\n"
          ]
        }
      ]
    },
    {
      "cell_type": "code",
      "source": [
        "# 98\n",
        "icecream = {'탱크보이': 1200, '폴라포': 1200, '빵빠레': 1800, '월드콘 ': 1500, '메로나': 1000}\n",
        "# new_product = {'팥빙수':2700, '아맛나':1000}\n",
        "icecream['팥빙수']= 2700\n",
        "icecream['아맛나']= 1000\n",
        "print(icecream)\n",
        "\n",
        "# -------------------------\n",
        "icecream = {'탱크보이': 1200, '폴라포': 1200, '빵빠레': 1800, '월드콘 ': 1500, '메로나': 1000}\n",
        "new_product = {'팥빙수':2700, '아맛나':1000} \n",
        "icecream.update(new_product)\n",
        "print(icecream)"
      ],
      "metadata": {
        "id": "l8Cr3IFR4RPt",
        "colab": {
          "base_uri": "https://localhost:8080/"
        },
        "outputId": "9a30d313-b53f-4c80-d0b0-d22c2d240ce2"
      },
      "execution_count": null,
      "outputs": [
        {
          "output_type": "stream",
          "name": "stdout",
          "text": [
            "{'탱크보이': 1200, '폴라포': 1200, '빵빠레': 1800, '월드콘 ': 1500, '메로나': 1000, '팥빙수': 2700, '아맛나': 1000}\n"
          ]
        }
      ]
    },
    {
      "cell_type": "code",
      "source": [
        "# 99\n",
        "keys = (\"apple\", \"pear\", \"peach\")\n",
        "vals = (300, 250, 400)\n",
        "fu = dict(zip([\"apple\",\"pear\",\"peach\"],[300,250,400]))\n",
        "print(fu)\n",
        "# ---------------------------\n",
        "keys = (\"apple\", \"pear\", \"peach\") \n",
        "vals = (300, 250, 400)\n",
        "result = dict(zip(keys, vals)) \n",
        "print(result)"
      ],
      "metadata": {
        "id": "FOoITfz-4RM2",
        "colab": {
          "base_uri": "https://localhost:8080/"
        },
        "outputId": "7152df14-99a4-40aa-8e1c-b438d299486d"
      },
      "execution_count": null,
      "outputs": [
        {
          "output_type": "stream",
          "name": "stdout",
          "text": [
            "{'apple': 300, 'pear': 250, 'peach': 400}\n"
          ]
        }
      ]
    },
    {
      "cell_type": "code",
      "source": [
        "# 100\n",
        "date = ['09/05', '09/06', '09/07', '09/08', '09/09']\n",
        "close_price = [10500, 10300, 10100, 10800, 11000]\n",
        "\n",
        "close_table = dict(zip(date,close_price))\n",
        "print(close_table)"
      ],
      "metadata": {
        "id": "HjVCi87a4RJ_",
        "colab": {
          "base_uri": "https://localhost:8080/"
        },
        "outputId": "23e3f593-4f38-415d-8e17-a5d2a152065c"
      },
      "execution_count": null,
      "outputs": [
        {
          "output_type": "stream",
          "name": "stdout",
          "text": [
            "{'09/05': 10500, '09/06': 10300, '09/07': 10100, '09/08': 10800, '09/09': 11000}\n"
          ]
        }
      ]
    },
    {
      "cell_type": "code",
      "source": [
        "# 151\n",
        "li = [3,-20,-3,44]\n",
        "for a in li:\n",
        "  if a < 0:\n",
        "   print(a)"
      ],
      "metadata": {
        "id": "x3Lfrpf04RGn",
        "colab": {
          "base_uri": "https://localhost:8080/"
        },
        "outputId": "d3514603-776d-4f2a-b6c3-9441e44924c2"
      },
      "execution_count": null,
      "outputs": [
        {
          "output_type": "stream",
          "name": "stdout",
          "text": [
            "-20\n",
            "-3\n"
          ]
        }
      ]
    },
    {
      "cell_type": "code",
      "source": [
        "# 152\n",
        "li = [3, 100, 23, 44]\n",
        "for a in li:\n",
        "  if a%3 == 0:\n",
        "    print(a)"
      ],
      "metadata": {
        "colab": {
          "base_uri": "https://localhost:8080/"
        },
        "id": "pYexKex6Zfts",
        "outputId": "7aaf2f4d-2fc5-483c-f83f-e2fadf25ebf1"
      },
      "execution_count": null,
      "outputs": [
        {
          "output_type": "stream",
          "name": "stdout",
          "text": [
            "3\n"
          ]
        }
      ]
    },
    {
      "cell_type": "code",
      "source": [
        "# 153\n",
        "li = [13, 21, 12, 14, 30, 18]\n",
        "for a in li:\n",
        "  if a <= 20:\n",
        "    if a%3 ==0:\n",
        "      print(a)"
      ],
      "metadata": {
        "colab": {
          "base_uri": "https://localhost:8080/"
        },
        "id": "gPPlxXOTZfq1",
        "outputId": "83fd50a8-faa0-4e08-c63f-b7db4613f97a"
      },
      "execution_count": null,
      "outputs": [
        {
          "output_type": "stream",
          "name": "stdout",
          "text": [
            "12\n",
            "18\n"
          ]
        }
      ]
    },
    {
      "cell_type": "code",
      "source": [
        "# 154\n",
        "li = [\"I\", \"study\", \"python\", \"language\", \"!\"]\n",
        "for a in li:\n",
        "  if len(a) > 3:\n",
        "    print(a)"
      ],
      "metadata": {
        "colab": {
          "base_uri": "https://localhost:8080/"
        },
        "id": "t4fVu5y4Zfnv",
        "outputId": "eb9847a4-9012-4d57-fe08-e9dd6e31dc9e"
      },
      "execution_count": null,
      "outputs": [
        {
          "output_type": "stream",
          "name": "stdout",
          "text": [
            "study\n",
            "python\n",
            "language\n"
          ]
        }
      ]
    },
    {
      "cell_type": "code",
      "source": [
        "# 155\n",
        "li = [\"A\", \"b\", \"c\", \"D\"]\n",
        "for a in li:\n",
        "  if a.isupper():\n",
        "    print(a)\n"
      ],
      "metadata": {
        "colab": {
          "base_uri": "https://localhost:8080/"
        },
        "id": "MvOXCKlMZfk1",
        "outputId": "56e77767-9085-45b8-86dc-e5e69fa42d5c"
      },
      "execution_count": null,
      "outputs": [
        {
          "output_type": "stream",
          "name": "stdout",
          "text": [
            "A\n",
            "D\n"
          ]
        }
      ]
    },
    {
      "cell_type": "code",
      "source": [
        "# 156\n",
        "li = [\"A\", \"b\", \"c\", \"D\"]\n",
        "for a in li:\n",
        "  if a.islower():\n",
        "    print(a)"
      ],
      "metadata": {
        "colab": {
          "base_uri": "https://localhost:8080/"
        },
        "id": "UirfLBZLZfh_",
        "outputId": "81b605f4-7577-493d-9255-acb62c692038"
      },
      "execution_count": null,
      "outputs": [
        {
          "output_type": "stream",
          "name": "stdout",
          "text": [
            "b\n",
            "c\n"
          ]
        }
      ]
    },
    {
      "cell_type": "code",
      "source": [
        "# 157\n",
        "li = ['dog', 'cat', 'parrot']\n",
        "for a in li:\n",
        "  print(a.capitalize())\n",
        "\n",
        "for a in li:\n",
        "  print(a[0].upper()+a[1:])\n"
      ],
      "metadata": {
        "colab": {
          "base_uri": "https://localhost:8080/"
        },
        "id": "wDS7H_eFZfe1",
        "outputId": "3a9f2dac-a1cf-4232-c39d-25008f481e0b"
      },
      "execution_count": 2,
      "outputs": [
        {
          "output_type": "stream",
          "name": "stdout",
          "text": [
            "Dog\n",
            "Cat\n",
            "Parrot\n",
            "Dog\n",
            "Cat\n",
            "Parrot\n"
          ]
        }
      ]
    },
    {
      "cell_type": "code",
      "source": [
        "# 158 풀지 못함\n",
        "li = ['hello.py', 'ex01.py', 'intro.hwp']\n",
        "for a in li:\n",
        "  split = a.split(\".\")\n",
        "  print(split[0])\n"
      ],
      "metadata": {
        "colab": {
          "base_uri": "https://localhost:8080/"
        },
        "id": "Vd31Tu29Zfbv",
        "outputId": "67ef1092-48b4-45a2-8f01-8455533b3a2c"
      },
      "execution_count": 4,
      "outputs": [
        {
          "output_type": "stream",
          "name": "stdout",
          "text": [
            "hello\n",
            "ex01\n",
            "intro\n"
          ]
        }
      ]
    },
    {
      "cell_type": "code",
      "source": [
        "# 159\n",
        "li = ['intra.h', 'intra.c', 'define.h', 'run.py']\n",
        "for a in li:\n",
        "  if a[-1] == 'h':\n",
        "    print(a)\n",
        "\n",
        "for a in li:\n",
        "  split = a.split(\".\")\n",
        "  if split == \"h\":\n",
        "    print(split)\n"
      ],
      "metadata": {
        "colab": {
          "base_uri": "https://localhost:8080/"
        },
        "id": "aU72RBrdZfZJ",
        "outputId": "c08ffe5e-dd09-4e27-aad4-f30e71a6e208"
      },
      "execution_count": 6,
      "outputs": [
        {
          "output_type": "stream",
          "name": "stdout",
          "text": [
            "intra.h\n",
            "define.h\n"
          ]
        }
      ]
    },
    {
      "cell_type": "code",
      "source": [
        "# 160 풀지 못함\n",
        "li = ['intra.h', 'intra.c', 'define.h', 'run.py']\n",
        "# for a in li:\n",
        "#   if a[-1] == 'h' and 'c':\n",
        "#     print(a)\n",
        "\n",
        "for a in li:\n",
        "  split = a.split(\".\")\n",
        "  if split[1] == \"h\" and \"c\":\n",
        "    print(a)"
      ],
      "metadata": {
        "id": "O1WyISKh4RDy",
        "colab": {
          "base_uri": "https://localhost:8080/"
        },
        "outputId": "aae12e83-5920-4da1-9a19-6681220d43d3"
      },
      "execution_count": 8,
      "outputs": [
        {
          "output_type": "stream",
          "name": "stdout",
          "text": [
            "intra.h\n",
            "define.h\n"
          ]
        }
      ]
    }
  ]
}