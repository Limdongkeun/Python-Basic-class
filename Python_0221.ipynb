{
  "nbformat": 4,
  "nbformat_minor": 0,
  "metadata": {
    "colab": {
      "name": "Python 0221",
      "provenance": [],
      "collapsed_sections": [],
      "authorship_tag": "ABX9TyOEcZ8ELEBjapL/rPwfKKA7",
      "include_colab_link": true
    },
    "kernelspec": {
      "name": "python3",
      "display_name": "Python 3"
    },
    "language_info": {
      "name": "python"
    }
  },
  "cells": [
    {
      "cell_type": "markdown",
      "metadata": {
        "id": "view-in-github",
        "colab_type": "text"
      },
      "source": [
        "<a href=\"https://colab.research.google.com/github/Limdongkeun/Python-Basic-class/blob/main/Python_0221.ipynb\" target=\"_parent\"><img src=\"https://colab.research.google.com/assets/colab-badge.svg\" alt=\"Open In Colab\"/></a>"
      ]
    },
    {
      "cell_type": "code",
      "execution_count": null,
      "metadata": {
        "colab": {
          "base_uri": "https://localhost:8080/"
        },
        "id": "yKDNA1B4nUcE",
        "outputId": "03939a84-6bfd-4dec-c69e-619af0d71fc4"
      },
      "outputs": [
        {
          "output_type": "stream",
          "name": "stdout",
          "text": [
            "ddd1\n",
            "<class 'int'>\n"
          ]
        }
      ],
      "source": [
        "input() 함수를 사용할 떄 주의할 점\n",
        "input()은 모든 입력을 srt(문자열로)저장한다\n",
        "숫자를 입력해도 문자로 받아들인다\n",
        "\n",
        "문자로 받음\n",
        "n = input('정수입력') \n",
        "print(type(n))\n",
        "\n",
        "\n",
        "casting\n",
        "n = int(input('ddd'))\n",
        "print(type(n))"
      ]
    },
    {
      "cell_type": "code",
      "source": [
        "price = 50000\n",
        "n = int(input('할부'))\n",
        "print(f'매달 내실 금액은{price/n}')"
      ],
      "metadata": {
        "colab": {
          "base_uri": "https://localhost:8080/"
        },
        "id": "4MOyjJAA0jtB",
        "outputId": "4d056241-64b0-4e13-dccd-754cc7963852"
      },
      "execution_count": null,
      "outputs": [
        {
          "output_type": "stream",
          "name": "stdout",
          "text": [
            "할부5\n",
            "매달 내실 금액은10000.0\n"
          ]
        }
      ]
    },
    {
      "cell_type": "code",
      "source": [
        "#예제\n",
        "\n",
        "a = float(input('실수입력'))\n",
        "b = float(input('실수입력'))\n",
        "print(f'{a+b}')\n"
      ],
      "metadata": {
        "colab": {
          "base_uri": "https://localhost:8080/"
        },
        "id": "MGgYXmbS1MOP",
        "outputId": "49bd20f0-019a-4ffd-e0f0-2abea7082f70"
      },
      "execution_count": null,
      "outputs": [
        {
          "output_type": "stream",
          "name": "stdout",
          "text": [
            "실수입력1.4\n",
            "실수입력2.5\n",
            "3.9\n"
          ]
        }
      ]
    },
    {
      "cell_type": "code",
      "source": [
        "month = [31,28,31,30,31,30,31,31,30,31,30,31]\n",
        "a = int(input('몇 월'))\n",
        "print(f'{a}월은 {month[a-1]}일까지 입니다')"
      ],
      "metadata": {
        "colab": {
          "base_uri": "https://localhost:8080/"
        },
        "id": "rfMOggna38lm",
        "outputId": "81ae8d50-fb3b-4fde-b3d0-e8bb3fa0f0c5"
      },
      "execution_count": null,
      "outputs": [
        {
          "output_type": "stream",
          "name": "stdout",
          "text": [
            "몇 월2\n",
            "2월은 28일까지 입니다\n"
          ]
        }
      ]
    },
    {
      "cell_type": "code",
      "source": [
        "dict = {'flower':'꽃', 'fly':'날다','floor':'바닥'}\n",
        "a = input('영어 입력')\n",
        "print(f'입력하신 영어는 {a}, 답은 {dict[a]}')"
      ],
      "metadata": {
        "colab": {
          "base_uri": "https://localhost:8080/"
        },
        "id": "07RP-N_U4B6u",
        "outputId": "37e33a90-603c-46c3-bbcb-4a918ba423af"
      },
      "execution_count": null,
      "outputs": [
        {
          "output_type": "stream",
          "name": "stdout",
          "text": [
            "영어 입력flower\n",
            "입력하신 영어는 flower, 답은 꽃\n"
          ]
        }
      ]
    },
    {
      "cell_type": "code",
      "source": [
        "#복합 대입 연산자\n",
        "\n",
        "a = 1\n",
        "print(a)\n",
        "a = a+1 # == a+=1\n",
        "print(a)\n",
        "a-=1\n",
        "print(a)"
      ],
      "metadata": {
        "id": "L6GwiqE67w_k",
        "colab": {
          "base_uri": "https://localhost:8080/"
        },
        "outputId": "c5c7072e-255c-41a9-d24c-57ede976c6db"
      },
      "execution_count": null,
      "outputs": [
        {
          "output_type": "stream",
          "name": "stdout",
          "text": [
            "1\n",
            "2\n",
            "1\n"
          ]
        }
      ]
    },
    {
      "cell_type": "code",
      "source": [
        "a = 1\n",
        "b = 2\n",
        "print('a = %d, b = %d'%(a,b))\n",
        "\n",
        "a,b = b,a\n",
        "print('a = %d, b = %d'%(a,b))"
      ],
      "metadata": {
        "colab": {
          "base_uri": "https://localhost:8080/"
        },
        "id": "F8pJ43zG_7TL",
        "outputId": "a5fdba1d-aadb-4232-ac7a-9483cc58f0c9"
      },
      "execution_count": null,
      "outputs": [
        {
          "output_type": "stream",
          "name": "stdout",
          "text": [
            "a = 1, b = 2\n",
            "a = 2, b = 1\n"
          ]
        }
      ]
    },
    {
      "cell_type": "code",
      "source": [
        "#시퀀스 연산자 순서가 있는 구조 시퀀스(리스트,츄플,문자열, range)에서 사용된다\n",
        "[1,3,5] + [2,4,6]\n",
        "\n",
        "'hello'+''+'python'\n",
        "\n",
        "[1,3,5] *2\n",
        "\n",
        "'---------' *3"
      ],
      "metadata": {
        "colab": {
          "base_uri": "https://localhost:8080/",
          "height": 36
        },
        "id": "xCAn1CFZBG9l",
        "outputId": "1c91eced-2b89-4bf1-ba2c-623b7595ffb0"
      },
      "execution_count": null,
      "outputs": [
        {
          "output_type": "execute_result",
          "data": {
            "application/vnd.google.colaboratory.intrinsic+json": {
              "type": "string"
            },
            "text/plain": [
              "'---------------------------'"
            ]
          },
          "metadata": {},
          "execution_count": 36
        }
      ]
    },
    {
      "cell_type": "code",
      "source": [
        "#멤버쉽 (연산자 안에 포함하고 있는지)\n",
        "5 in [1,2,3,4,5]\n",
        "\n",
        "6 not in [1,2,3,4,5]\n",
        "\n",
        "'a' in 'apple'\n",
        "\n",
        "'a' in {'a':'apple','b':'banana'}"
      ],
      "metadata": {
        "colab": {
          "base_uri": "https://localhost:8080/"
        },
        "id": "4KrKxL40DDFR",
        "outputId": "48c2c042-2e52-4428-c2ba-08bfdae56e68"
      },
      "execution_count": null,
      "outputs": [
        {
          "output_type": "execute_result",
          "data": {
            "text/plain": [
              "True"
            ]
          },
          "metadata": {},
          "execution_count": 43
        }
      ]
    },
    {
      "cell_type": "code",
      "source": [
        "a = (input('두 자리 숫자 입력'))\n",
        "print(f'십의자리{a[0]}')\n",
        "print(f'일의자리{a[1]}')\n",
        "\n",
        "a = int(input('두자리입력'))\n",
        "print(f'십의자리{a//10}, 일의자리{a%10}')"
      ],
      "metadata": {
        "colab": {
          "base_uri": "https://localhost:8080/"
        },
        "id": "Ts0T9EvEDvHu",
        "outputId": "5d398713-dbcb-4ae9-8612-edcaa0e6dabf"
      },
      "execution_count": null,
      "outputs": [
        {
          "output_type": "stream",
          "name": "stdout",
          "text": [
            "두 자리 숫자 입력45\n",
            "십의자리4\n",
            "일의자리5\n"
          ]
        }
      ]
    },
    {
      "cell_type": "code",
      "source": [
        "a = int(input('시간 입력'))\n",
        "b = a//3600\n",
        "c = a%3600 // 60\n",
        "d = a%60\n",
        "\n",
        "print(f'{b}시간{c}분{d}초')"
      ],
      "metadata": {
        "colab": {
          "base_uri": "https://localhost:8080/"
        },
        "id": "b3y5NHshDvEH",
        "outputId": "5a14d562-bc78-4164-d5fe-05fab7cfe42b"
      },
      "execution_count": null,
      "outputs": [
        {
          "output_type": "stream",
          "name": "stdout",
          "text": [
            "시간 입력3690\n",
            "1시간1분30초\n"
          ]
        }
      ]
    },
    {
      "cell_type": "code",
      "source": [
        "a = int(input('dd'))\n",
        "b = a%10\n",
        "if b>=5:\n",
        "  print(f'오전')\n",
        "else:\n",
        "  print(f'오후')\n"
      ],
      "metadata": {
        "colab": {
          "base_uri": "https://localhost:8080/"
        },
        "id": "v6EHHkWpIs0g",
        "outputId": "aeba6a08-4b94-469b-9fcd-66afbeb9a480"
      },
      "execution_count": null,
      "outputs": [
        {
          "output_type": "stream",
          "name": "stdout",
          "text": [
            "dd1235\n",
            "오후\n"
          ]
        }
      ]
    },
    {
      "cell_type": "code",
      "source": [
        "#if문\n",
        "# 조건문은 특정 조건을 만족하는지의 여부에 따라 실행\n",
        "\n",
        "a = 1\n",
        "if a>0:\n",
        "  print('양수')"
      ],
      "metadata": {
        "colab": {
          "base_uri": "https://localhost:8080/"
        },
        "id": "J21ZrBcBNrYO",
        "outputId": "9edb4f35-5726-419a-8d6d-9e8e49fd2b69"
      },
      "execution_count": null,
      "outputs": [
        {
          "output_type": "stream",
          "name": "stdout",
          "text": [
            "양수\n"
          ]
        }
      ]
    }
  ]
}