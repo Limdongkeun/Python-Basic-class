{
  "nbformat": 4,
  "nbformat_minor": 0,
  "metadata": {
    "colab": {
      "name": "python2.0330선택,버블,삽입,퀵정렬.ipynb",
      "provenance": [],
      "authorship_tag": "ABX9TyOfINfV+5q4Ke3p+P8Kkfil",
      "include_colab_link": true
    },
    "kernelspec": {
      "name": "python3",
      "display_name": "Python 3"
    },
    "language_info": {
      "name": "python"
    }
  },
  "cells": [
    {
      "cell_type": "markdown",
      "metadata": {
        "id": "view-in-github",
        "colab_type": "text"
      },
      "source": [
        "<a href=\"https://colab.research.google.com/github/Limdongkeun/Python-Basic-class/blob/main/python2_0330%EC%84%A0%ED%83%9D%2C%EB%B2%84%EB%B8%94%2C%EC%82%BD%EC%9E%85%2C%ED%80%B5%EC%A0%95%EB%A0%AC.ipynb\" target=\"_parent\"><img src=\"https://colab.research.google.com/assets/colab-badge.svg\" alt=\"Open In Colab\"/></a>"
      ]
    },
    {
      "cell_type": "code",
      "execution_count": 1,
      "metadata": {
        "colab": {
          "base_uri": "https://localhost:8080/"
        },
        "id": "67CqmeUYROWJ",
        "outputId": "eade6b3c-e0cb-46b4-ce96-0f3903cf31aa"
      },
      "outputs": [
        {
          "output_type": "stream",
          "name": "stdout",
          "text": [
            "hello world\n"
          ]
        }
      ],
      "source": [
        "# 정렬 외우기\n",
        "\n",
        "# 선택정렬, 버블정렬, 삽입정렬, 퀵정렬, 힙정렬, 셀정렬, 병합정렬\n",
        "\n",
        "# 데이터를 오름차순 정렬 1,2,3,4,5 가나다라마 abcde\n",
        "#        내림차순 정렬 5,4,3,2,1 마라다나가 edcbe\n",
        "# 즉, 데이터를 순서대로 나열하는 방법\n",
        "\n",
        "# 아주 유명하고 많이 알려진 알고리즘을 배우면 프로그래밍 전반에 대한 이해도를 높일 수 있다.\n",
        "\n",
        "# 알고리즘은 '문자나 과제를 해결하기 위한 처리 절차를 하나하나 구체적인 순서로 표현한 아이디어나 생각'\n",
        "\n",
        "# 알고리즘은 비단 컴퓨터에서만 쓰이는 것이 아니다 - 요리 레시피, 제품 설명서...\n",
        "\n",
        "# 좋은 알고리즘은?\n",
        "# 1. 알기 쉽다\n",
        "# 2. 속도가 빠르다\n",
        "# 3. 효율적이다(메모리를 적게 사용한다)\n",
        "# 4. 재이용이 쉽다\n",
        "\n",
        "# 왜 알고리즘을 공부해야하나?\n",
        "# 1. 좋은 프로그램을 만들기 위해\n",
        "# 2. 좋고 나쁨을 판단하기 위해\n",
        "# 3. 기술의 향상 시키기 위해\n"
      ]
    },
    {
      "cell_type": "code",
      "source": [
        "# 선택 정렬\n",
        "# 정렬되지 않은 데이터 중에서 가장 작은 데이터를 선택하여 맨 앞에서 부터 순서대로 정렬을 완성해가는 알고리즘\n",
        "\n",
        "\n",
        "# 예)\n",
        "\n",
        "# 0  1  2  3  4   <- 인덱스 0부터 4까지\n",
        "# 12 13 11 14 10   <- 정렬할 실제 데이터(공이라고 가정해보자)\n",
        "\n",
        "# 먼저 가장 작은 숫자의 공을 찾자  -> 10\n",
        "# 찾은 제일 작은 공을 0번째 방의 공과 교환한다.\n",
        "\n",
        "# 12 13 11 14 10\n",
        "#             --  제일 작은 공 10\n",
        "\n",
        "# 10 13 11 14 12\n",
        "# --          --  0번 인덱스의 공인 12와 교환 ... 10번공은 정렬이 끝남\n",
        "#                 10번 공을 제외한 나머지 동들 중 제일 작은 공을 찾는다\n",
        "\n",
        "# 10         13 11 14 12 \n",
        "#               --        -- 아직 정렬이 되지 않은 공들 중 제일 왼쪽 즉, 13과 교환한다\n",
        "#            11 13 14 12\n",
        "# 10 11      13 14 12   10,11번 공을 제외한 나머지 동들 중 제일 작은 공을 찾는다\n",
        "#                  --     -- 아직 정렬이 되지 않은 공들 중 제일 왼쪽 즉, 13과 교환한다\n",
        "#            12 14 13\n",
        "# 10 11 12   14 13        -- 10,11,12번 공을 제외한 나머지 동들 중 제일 작은 공을 찾는다\n",
        "#               -- \n",
        "#            13 14\n",
        "\n",
        "# 10 11 12 13 14\n",
        "\n",
        "# 1. 탐색 범위(정렬이 되지 않은 상태의 공들)중 최소값을 찾는다\n",
        "# 2. 최소값과 탐색 범위의(정렬이 되지 않은 상태의 공들)중 맨 앞 요소와 교환한다"
      ],
      "metadata": {
        "id": "GSabyYGdUEYc"
      },
      "execution_count": null,
      "outputs": []
    },
    {
      "cell_type": "code",
      "source": [
        "#두개의 자리의 값을 바꾸는 방법\n",
        "\n",
        "a = 1\n",
        "b = 2\n",
        "\n",
        "print(\"a = \",a)\n",
        "print(\"b = \",b)\n",
        "\n",
        "#임시 변수 t\n",
        "t = a  # t =1 \n",
        "a = b  # a = 2\n",
        "b = t  # b = 1\n",
        "\n",
        "print(\"a = \",a)\n",
        "print(\"b = \",b)\n",
        "\n",
        "#python 방법\n",
        "a, b = b, a\n",
        "\n",
        "print(\"a = \",a)\n",
        "print(\"b = \",b)"
      ],
      "metadata": {
        "colab": {
          "base_uri": "https://localhost:8080/"
        },
        "id": "TXuRmBz7j3v7",
        "outputId": "0e9783e5-b727-48d6-ea76-90dadb69be4a"
      },
      "execution_count": 18,
      "outputs": [
        {
          "output_type": "stream",
          "name": "stdout",
          "text": [
            "a =  1\n",
            "b =  2\n",
            "a =  2\n",
            "b =  1\n",
            "a =  1\n",
            "b =  2\n"
          ]
        }
      ]
    },
    {
      "cell_type": "code",
      "source": [
        "# 위에 글을 코드로  선택정렬\n",
        "\n",
        "def selectionSort(arr):\n",
        "  for i in range(len(arr),0, -1):\n",
        "    max = 0 #임시로 제일 작은 원소를 인덱스를 0번째라고 가정하자\n",
        "    for j in range(0,i):\n",
        "      if arr[j] > arr[max]:\n",
        "        max = j\n",
        "      arr[max], arr[j] = arr[j], arr[max] #자리 바꾸기\n",
        "      print(arr) \n",
        "  return arr\n",
        "\n",
        "\n",
        "arr = [12, 13, 11, 14, 10]\n",
        "print('정렬 후 : ',selectionSort(arr))"
      ],
      "metadata": {
        "colab": {
          "base_uri": "https://localhost:8080/"
        },
        "id": "ivFt98-EZ2lt",
        "outputId": "fe10fe3d-6148-4c21-adce-78e1fce7fcd3"
      },
      "execution_count": 11,
      "outputs": [
        {
          "output_type": "stream",
          "name": "stdout",
          "text": [
            "[12, 13, 11, 14, 10]\n",
            "[12, 13, 11, 14, 10]\n",
            "[12, 11, 13, 14, 10]\n",
            "[12, 11, 13, 14, 10]\n",
            "[12, 11, 13, 10, 14]\n",
            "[12, 11, 13, 10, 14]\n",
            "[11, 12, 13, 10, 14]\n",
            "[11, 12, 13, 10, 14]\n",
            "[11, 12, 10, 13, 14]\n",
            "[11, 12, 10, 13, 14]\n",
            "[11, 12, 10, 13, 14]\n",
            "[11, 10, 12, 13, 14]\n",
            "[11, 10, 12, 13, 14]\n",
            "[10, 11, 12, 13, 14]\n",
            "[10, 11, 12, 13, 14]\n",
            "정렬 후 :  [10, 11, 12, 13, 14]\n"
          ]
        }
      ]
    },
    {
      "cell_type": "code",
      "source": [
        "# 버블 정렬(단순 교환법)\n",
        "\n",
        "# 인접한 데이터를 교환하는 처리를 반복하여 최종적으로 모든 데이터를 오름차순이나 내림차순으로 정렬한다\n",
        "\n",
        "# 12 13 11 14 10\n",
        "\n",
        "# 뒤부터 인접한 2개의 공을 비교하여 작은 쪽을 앞(즉, 왼쪽으로)오도록 교환하는 과정을 계속 반복한다\n",
        "\n",
        "# 12 13 11 14 10\n",
        "#          -- -- \n",
        "\n",
        "# 12 13 11 10 14\n",
        "#       -- --\n",
        "\n",
        "# 12 13 10 11 14\n",
        "#    -- --\n",
        "\n",
        "# 12 10 13 11 14\n",
        "# -- --\n",
        "\n",
        "# 10      12 13 11 14 -- 10은 정렬이 완료된 상태의\n",
        "\n",
        "# 10                12 13 11 14\n",
        "# 10                12 11 13 14\n",
        "# 10                11 12 13 14\n",
        "# 10 11             12 13 14\n",
        "# 10 11 12          13 14\n",
        "# 10 11 12 13       14\n",
        "# 10 11 12 13 14"
      ],
      "metadata": {
        "id": "XQGpPFBofcdl"
      },
      "execution_count": null,
      "outputs": []
    },
    {
      "cell_type": "code",
      "source": [
        "# 위에 글을 코드로  버블정렬\n",
        "\n",
        "def bubbleSort(arr):\n",
        "  for i in range(len(arr)-1,0,-1):\n",
        "    for j in range(0,i):\n",
        "      if arr[j] > arr[j+1]:\n",
        "        arr[j], arr[j+1] = arr[j+1], arr[j]  #자리 바꾸기\n",
        "\n",
        "  return arr\n",
        "\n",
        "arr = [12, 13, 11, 14, 10]\n",
        "print('정렬 후 : ',bubbleSort(arr))"
      ],
      "metadata": {
        "colab": {
          "base_uri": "https://localhost:8080/"
        },
        "id": "0C8Vycr4h4S2",
        "outputId": "380fcc83-737b-4a21-d7f0-764c661dcce5"
      },
      "execution_count": 20,
      "outputs": [
        {
          "output_type": "stream",
          "name": "stdout",
          "text": [
            "정렬 후 :  [10, 11, 12, 13, 14]\n"
          ]
        }
      ]
    },
    {
      "cell_type": "code",
      "source": [
        "# 삽입 정렬\n",
        "\n",
        "# 이름대로 요소를 하나씩 차례대로 올바은 위치를 찾아서 삽입하여 최종적으로 전체를 정렬하게 된다\n",
        "\n",
        "# 실제 일상생활에서 우리가 물건을 정렬할때 사용하는 방법과 가깝다\n",
        "# 그러나 사실 정렬속도가 느리다 // 느리지만 개념을 잡기에 유익하다\n",
        "\n",
        "# 선택한 공을 대소 관계가 올바은 위치에 삽입하는것이 기본 동작이다\n",
        "# 공을 '정렬된 공' 과 '아직 정렬되지 않은 공'으로 나누어 생각\n",
        "# 최초 0번쨰 공을 '이미 정렬이 된 공'이라고 가정하고 나머지 공들을\n",
        "# '아직 정렬되지 않은 공'으로 가정한다\n",
        "# '정렬이 되지 않은 공' 중에서 가장 왼쪽의 공을 '정렬 된 공'중 올바은 위치에 삽입하는 방법을 반본\n",
        "\n",
        "\n",
        "#12 13 11 14 10\n",
        "\n",
        "# 12               13 11 14 10\n",
        "# 정렬된 공(가정)     #정렬되지 않은 공\n",
        "\n",
        "# 12 13            11 14 10\n",
        "# 정렬된 공          #정렬되지 않은 공\n",
        "\n",
        "# 11 12 13         14 10\n",
        "# 정렬된 공          #정렬되지 않은 공\n",
        "\n",
        "# 11 12 13 14      10 \n",
        "# 정렬된 공          #정렬되지 않은 공\n",
        "\n",
        "# 10 11 12 13 14 \n",
        "# 정렬된 공 "
      ],
      "metadata": {
        "id": "WCg-GJFij0xU"
      },
      "execution_count": null,
      "outputs": []
    },
    {
      "cell_type": "code",
      "source": [
        "# 위에 글을 코드로     삽입정렬\n",
        "\n",
        "def insertionSort(arr):\n",
        "  for i in range(1,len(arr)):\n",
        "    while i > 0 and arr[i] < arr[i-1]:\n",
        "      arr[i], arr[i-1] = arr[i-1], arr[i]   #자리 바꿈\n",
        "\n",
        "      i -= 1\n",
        "\n",
        "  return arr\n",
        "\n",
        "\n",
        "arr = [12, 13, 11, 14, 10]\n",
        "print('정렬 후 : ',insertionSort(arr))"
      ],
      "metadata": {
        "colab": {
          "base_uri": "https://localhost:8080/"
        },
        "id": "8bNKbIqMnvaT",
        "outputId": "461eb7ec-56a1-4036-ea0f-3b50d67d448d"
      },
      "execution_count": 29,
      "outputs": [
        {
          "output_type": "stream",
          "name": "stdout",
          "text": [
            "정렬 후 :  [10, 11, 12, 13, 14]\n"
          ]
        }
      ]
    },
    {
      "cell_type": "code",
      "source": [
        "# 퀵 정렬\n",
        "\n",
        "# 1. 처리 속도가 빠르다\n",
        "# 2. 대량의 데이터를 정렬할 때 자주 사용된다.\n",
        "# 2. 유명한 알고리즘 중에서도 실제 사용된는 빈도가 아주 높은 가장 중요한 알고리즘이다.\n",
        "\n",
        "# 퀵정렬은 기준값을 선탣하고 그보다 작은 데이터, 그보다 큰 데이터 그룹으로 나누는 것을 반복하여 데이터를 정렬한다\n",
        "# 계속 기준값을 정하여 가운대를 먼저 확정하고 계속 반복한다\n",
        "\n",
        "#         5 4 7 6 8 3 1 2 9\n",
        "#         -                   제일 왼쪽값을 기준으로 선택\n",
        "#         5 4 2 1 3 8 6 7 9   이렇게 됐을때 가운대 자리에 3이 있기 때문에 5와 3을 바꾼다\n",
        "#         3 4 2 1 5 8 6 7 9   인덱스를 그대로 바꾼다(앞,뒤)\n",
        "#                 -           5 위치 확정\n",
        "\n",
        "#         3 4 2 1   8 6 7 9\n",
        "#         -         -\n",
        "#         3 1 2 4   8 6 7 9\n",
        "#         2 1 3 4   7 6 8 9 \n",
        "#             -         -     3, 8 위치 확정\n",
        "#  \n",
        "#         2 1       7 6 \n",
        "#         1 2 3 4 5 6 7 8 9  "
      ],
      "metadata": {
        "id": "-8gQAAE6qQls"
      },
      "execution_count": null,
      "outputs": []
    }
  ]
}