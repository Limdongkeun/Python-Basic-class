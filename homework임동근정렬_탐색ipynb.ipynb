{
  "nbformat": 4,
  "nbformat_minor": 0,
  "metadata": {
    "colab": {
      "name": "homework임동근정렬/탐색ipynb",
      "provenance": [],
      "collapsed_sections": [],
      "authorship_tag": "ABX9TyN/KudkZpgExdZcCO9EdHka",
      "include_colab_link": true
    },
    "kernelspec": {
      "name": "python3",
      "display_name": "Python 3"
    },
    "language_info": {
      "name": "python"
    }
  },
  "cells": [
    {
      "cell_type": "markdown",
      "metadata": {
        "id": "view-in-github",
        "colab_type": "text"
      },
      "source": [
        "<a href=\"https://colab.research.google.com/github/Limdongkeun/Python-Basic-class/blob/main/homework%EC%9E%84%EB%8F%99%EA%B7%BC%EC%A0%95%EB%A0%AC_%ED%83%90%EC%83%89ipynb.ipynb\" target=\"_parent\"><img src=\"https://colab.research.google.com/assets/colab-badge.svg\" alt=\"Open In Colab\"/></a>"
      ]
    },
    {
      "cell_type": "code",
      "execution_count": 2,
      "metadata": {
        "colab": {
          "base_uri": "https://localhost:8080/"
        },
        "id": "w0LvkPuZ48bx",
        "outputId": "ee6f5a11-87be-4f8f-fd0a-69fe83713b76"
      },
      "outputs": [
        {
          "output_type": "execute_result",
          "data": {
            "text/plain": [
              "[1, 27, 30, 59, 85, 98, 99, 1004, 54293]"
            ]
          },
          "metadata": {},
          "execution_count": 2
        }
      ],
      "source": [
        "# 선택정렬\n",
        "\n",
        "def selectSort(arr):\n",
        "  for i in range(len(arr),0,-1):\n",
        "    max = 0\n",
        "    for j in range(0,i):\n",
        "      if arr[j] > arr[max]:\n",
        "        max = j\n",
        "      arr[max], arr[j] = arr[j], arr[max]\n",
        "\n",
        "  return arr\n",
        "\n",
        "arr = [1,59,30,98,27,85,99,1004,54293]\n",
        "selectSort(arr)"
      ]
    },
    {
      "cell_type": "code",
      "source": [
        "# 버블정렬\n",
        "\n",
        "def bubbleSort(arr):\n",
        "  for i in range(len(arr)-1,0,-1):\n",
        "     for j in range(0,i):\n",
        "      if arr[j] > arr[j+1]:\n",
        "        arr[j], arr[j+1] = arr[j+1], arr[j]\n",
        "\n",
        "  return arr\n",
        "\n",
        "arr = [1,59,30,98,27,85,99,1004,54293]\n",
        "bubbleSort(arr)"
      ],
      "metadata": {
        "colab": {
          "base_uri": "https://localhost:8080/"
        },
        "id": "E0JAmjMN6CXN",
        "outputId": "e4face41-1b15-4ee7-a765-54dd0b39ed67"
      },
      "execution_count": 3,
      "outputs": [
        {
          "output_type": "execute_result",
          "data": {
            "text/plain": [
              "[1, 27, 30, 59, 85, 98, 99, 1004, 54293]"
            ]
          },
          "metadata": {},
          "execution_count": 3
        }
      ]
    },
    {
      "cell_type": "code",
      "source": [
        "# 삽입정렬\n",
        "\n",
        "def insertionSort(arr):\n",
        "  for i in range(1,len(arr)):\n",
        "    while i > 0 and arr[i] < arr[i-1]:\n",
        "      arr[i], arr[i-1] = arr[i-1], arr[i]  \n",
        "      i -= 1\n",
        "\n",
        "  return arr\n",
        "\n",
        "arr = [1,59,30,98,27,85,99,1004,54293]\n",
        "insertionSort(arr)"
      ],
      "metadata": {
        "colab": {
          "base_uri": "https://localhost:8080/"
        },
        "id": "4Aga5h-X6frP",
        "outputId": "1fa6a8d7-2319-4591-8d73-48a373fca2f7"
      },
      "execution_count": 5,
      "outputs": [
        {
          "output_type": "execute_result",
          "data": {
            "text/plain": [
              "[1, 27, 30, 59, 85, 98, 99, 1004, 54293]"
            ]
          },
          "metadata": {},
          "execution_count": 5
        }
      ]
    },
    {
      "cell_type": "code",
      "source": [
        "# 퀵정렬     인덱스 범위를 벗어난다는 오류가 나는데 왜 그런지 잘 모르겠습니다\n",
        "\n",
        "def quickSort(arr):\n",
        "  result = []\n",
        "  pivot = arr[0]\n",
        "  low = []\n",
        "  high = []\n",
        "\n",
        "  for i in range(1,len(arr)):\n",
        "    if pivot > arr[i]:\n",
        "      low.append(arr[i])\n",
        "    else:\n",
        "      high.append(arr[i])\n",
        "\n",
        "    low = quickSort(low)\n",
        "    high = quickSort(high)\n",
        "\n",
        "    result = low + pivot + high\n",
        "\n",
        "  return result\n",
        "\n",
        "arr = [1,59,30,98,27,85,99,1004,54293]\n",
        "quickSort(arr)"
      ],
      "metadata": {
        "colab": {
          "base_uri": "https://localhost:8080/",
          "height": 354
        },
        "id": "QtzEnJjD7jDO",
        "outputId": "9889cfa8-a530-4d94-c2fd-f4a3f6774988"
      },
      "execution_count": 10,
      "outputs": [
        {
          "output_type": "error",
          "ename": "IndexError",
          "evalue": "ignored",
          "traceback": [
            "\u001b[0;31m---------------------------------------------------------------------------\u001b[0m",
            "\u001b[0;31mIndexError\u001b[0m                                Traceback (most recent call last)",
            "\u001b[0;32m<ipython-input-10-e8664589118d>\u001b[0m in \u001b[0;36m<module>\u001b[0;34m()\u001b[0m\n\u001b[1;32m     21\u001b[0m \u001b[0;34m\u001b[0m\u001b[0m\n\u001b[1;32m     22\u001b[0m \u001b[0marr\u001b[0m \u001b[0;34m=\u001b[0m \u001b[0;34m[\u001b[0m\u001b[0;36m1\u001b[0m\u001b[0;34m,\u001b[0m\u001b[0;36m59\u001b[0m\u001b[0;34m,\u001b[0m\u001b[0;36m30\u001b[0m\u001b[0;34m,\u001b[0m\u001b[0;36m98\u001b[0m\u001b[0;34m,\u001b[0m\u001b[0;36m27\u001b[0m\u001b[0;34m,\u001b[0m\u001b[0;36m85\u001b[0m\u001b[0;34m,\u001b[0m\u001b[0;36m99\u001b[0m\u001b[0;34m,\u001b[0m\u001b[0;36m1004\u001b[0m\u001b[0;34m,\u001b[0m\u001b[0;36m54293\u001b[0m\u001b[0;34m]\u001b[0m\u001b[0;34m\u001b[0m\u001b[0;34m\u001b[0m\u001b[0m\n\u001b[0;32m---> 23\u001b[0;31m \u001b[0mquickSort\u001b[0m\u001b[0;34m(\u001b[0m\u001b[0marr\u001b[0m\u001b[0;34m)\u001b[0m\u001b[0;34m\u001b[0m\u001b[0;34m\u001b[0m\u001b[0m\n\u001b[0m",
            "\u001b[0;32m<ipython-input-10-e8664589118d>\u001b[0m in \u001b[0;36mquickSort\u001b[0;34m(arr)\u001b[0m\n\u001b[1;32m     13\u001b[0m       \u001b[0mhigh\u001b[0m\u001b[0;34m.\u001b[0m\u001b[0mappend\u001b[0m\u001b[0;34m(\u001b[0m\u001b[0marr\u001b[0m\u001b[0;34m[\u001b[0m\u001b[0mi\u001b[0m\u001b[0;34m]\u001b[0m\u001b[0;34m)\u001b[0m\u001b[0;34m\u001b[0m\u001b[0;34m\u001b[0m\u001b[0m\n\u001b[1;32m     14\u001b[0m \u001b[0;34m\u001b[0m\u001b[0m\n\u001b[0;32m---> 15\u001b[0;31m     \u001b[0mlow\u001b[0m \u001b[0;34m=\u001b[0m \u001b[0mquickSort\u001b[0m\u001b[0;34m(\u001b[0m\u001b[0mlow\u001b[0m\u001b[0;34m)\u001b[0m\u001b[0;34m\u001b[0m\u001b[0;34m\u001b[0m\u001b[0m\n\u001b[0m\u001b[1;32m     16\u001b[0m     \u001b[0mhigh\u001b[0m \u001b[0;34m=\u001b[0m \u001b[0mquickSort\u001b[0m\u001b[0;34m(\u001b[0m\u001b[0mhigh\u001b[0m\u001b[0;34m)\u001b[0m\u001b[0;34m\u001b[0m\u001b[0;34m\u001b[0m\u001b[0m\n\u001b[1;32m     17\u001b[0m \u001b[0;34m\u001b[0m\u001b[0m\n",
            "\u001b[0;32m<ipython-input-10-e8664589118d>\u001b[0m in \u001b[0;36mquickSort\u001b[0;34m(arr)\u001b[0m\n\u001b[1;32m      3\u001b[0m \u001b[0;32mdef\u001b[0m \u001b[0mquickSort\u001b[0m\u001b[0;34m(\u001b[0m\u001b[0marr\u001b[0m\u001b[0;34m)\u001b[0m\u001b[0;34m:\u001b[0m\u001b[0;34m\u001b[0m\u001b[0;34m\u001b[0m\u001b[0m\n\u001b[1;32m      4\u001b[0m   \u001b[0mresult\u001b[0m \u001b[0;34m=\u001b[0m \u001b[0;34m[\u001b[0m\u001b[0;34m]\u001b[0m\u001b[0;34m\u001b[0m\u001b[0;34m\u001b[0m\u001b[0m\n\u001b[0;32m----> 5\u001b[0;31m   \u001b[0mpivot\u001b[0m \u001b[0;34m=\u001b[0m \u001b[0marr\u001b[0m\u001b[0;34m[\u001b[0m\u001b[0;36m0\u001b[0m\u001b[0;34m]\u001b[0m\u001b[0;34m\u001b[0m\u001b[0;34m\u001b[0m\u001b[0m\n\u001b[0m\u001b[1;32m      6\u001b[0m   \u001b[0mlow\u001b[0m \u001b[0;34m=\u001b[0m \u001b[0;34m[\u001b[0m\u001b[0;34m]\u001b[0m\u001b[0;34m\u001b[0m\u001b[0;34m\u001b[0m\u001b[0m\n\u001b[1;32m      7\u001b[0m   \u001b[0mhigh\u001b[0m \u001b[0;34m=\u001b[0m \u001b[0;34m[\u001b[0m\u001b[0;34m]\u001b[0m\u001b[0;34m\u001b[0m\u001b[0;34m\u001b[0m\u001b[0m\n",
            "\u001b[0;31mIndexError\u001b[0m: list index out of range"
          ]
        }
      ]
    },
    {
      "cell_type": "code",
      "source": [
        "# ------------------------------\n",
        "# 선형탐색\n",
        "\n",
        "def linearSearch(arr, no):\n",
        "  for i in range(len(arr)):\n",
        "    if arr[i] == no:\n",
        "      return i\n",
        "\n",
        "\n",
        "arr = [1,59,30,98,27,85,99,1004,54293]\n",
        "no = 99\n",
        "linearSearch(arr, no)"
      ],
      "metadata": {
        "colab": {
          "base_uri": "https://localhost:8080/"
        },
        "id": "QJj1gUZx_Eh9",
        "outputId": "c7b98a9e-e55e-426b-909e-8a75219131f9"
      },
      "execution_count": 12,
      "outputs": [
        {
          "output_type": "execute_result",
          "data": {
            "text/plain": [
              "6"
            ]
          },
          "metadata": {},
          "execution_count": 12
        }
      ]
    },
    {
      "cell_type": "code",
      "source": [
        "# 이진탐색\n",
        "\n",
        "def binarySearch(arr,no):\n",
        "  arr.sort()\n",
        "  first = 0\n",
        "  last = len(arr)\n",
        "\n",
        "  while first <= last:\n",
        "    mid = (first + last) // 2\n",
        "    if arr[mid] == no:\n",
        "      return mid\n",
        "    elif arr[mid] > no:\n",
        "      last = mid - 1\n",
        "    else:\n",
        "      first = mid + 1\n",
        "\n",
        "\n",
        "arr = [1,59,30,98,27,85,99,1004,54293]\n",
        "no = 99\n",
        "binarySearch(arr, no)"
      ],
      "metadata": {
        "colab": {
          "base_uri": "https://localhost:8080/"
        },
        "id": "-l1E27iVALji",
        "outputId": "87ff90bc-ff1c-482c-8763-db41282d13c0"
      },
      "execution_count": 16,
      "outputs": [
        {
          "output_type": "execute_result",
          "data": {
            "text/plain": [
              "6"
            ]
          },
          "metadata": {},
          "execution_count": 16
        }
      ]
    },
    {
      "cell_type": "code",
      "source": [
        "# 해시함수는 키값을 이용해서 인덱스내에 있는 값을 찾는것이라고 하는데 구현을 못하겠습니다"
      ],
      "metadata": {
        "id": "_9RmJmOm_fiW"
      },
      "execution_count": null,
      "outputs": []
    }
  ]
}