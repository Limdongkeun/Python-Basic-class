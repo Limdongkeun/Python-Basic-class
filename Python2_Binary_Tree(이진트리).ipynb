{
  "nbformat": 4,
  "nbformat_minor": 0,
  "metadata": {
    "colab": {
      "name": "\bPython2 Binary Tree(이진트리).ipynb",
      "provenance": [],
      "collapsed_sections": [],
      "authorship_tag": "ABX9TyPi/dqgSL3wAndjPdKCvOv/",
      "include_colab_link": true
    },
    "kernelspec": {
      "name": "python3",
      "display_name": "Python 3"
    },
    "language_info": {
      "name": "python"
    }
  },
  "cells": [
    {
      "cell_type": "markdown",
      "metadata": {
        "id": "view-in-github",
        "colab_type": "text"
      },
      "source": [
        "<a href=\"https://colab.research.google.com/github/Limdongkeun/Python-Basic-class/blob/main/%08Python2_Binary_Tree(%EC%9D%B4%EC%A7%84%ED%8A%B8%EB%A6%AC).ipynb\" target=\"_parent\"><img src=\"https://colab.research.google.com/assets/colab-badge.svg\" alt=\"Open In Colab\"/></a>"
      ]
    },
    {
      "cell_type": "code",
      "execution_count": null,
      "metadata": {
        "id": "jPOIGi5qFJxn"
      },
      "outputs": [],
      "source": [
        "# 이진트리\n",
        "\n",
        "# 이진 트리 구조는 논드가 최대 2개의 자식 노드르 가지는 구조\n",
        "# 왼쪽 서브 트리의 값은 루트 값보다는 작고 오른쪽 서브트리 값은 루트보가 큰값을 가지도록 구성\n",
        "# 주로 빠른 검색이 필요한 곳에서 사용하므로 '이진 검색트리'라고도 한다\n",
        "\n",
        "# 이진 트리 생성방법\n",
        "\n",
        "# 처음에 입력된 값이 8\n",
        "# 두번쨰 입력된 값이 3이다 / 3은 8보다 작으므로 8 아래 왼쪽에 위치시킨다\n",
        "# 세번째 입력된 값이 10이다 / 10은 8보다 크므로 8 아래 오른쪽에 위치시킨다\n",
        "\n",
        "#               8\n",
        "#            3    10\n",
        "\n",
        "# 네번째 2가 입력\n",
        "# 8보다 작으므로 왼쪽으로 이동 / 3보다 작으므로 왼쪽으로 이동\n",
        "# 다섯번째 5가 입력\n",
        "# 8보다 작으므로 왼쪽으로 이동 / 3보다는 크므로 오른쪽으로 이동\n",
        "\n",
        "#                8\n",
        "#            3      10\n",
        "#          2   5\n",
        "\n",
        "# 여섯번째 9가 입력\n",
        "# 8보다는 크므로 오른쪽으로 이동 / 10보다는 작으므로 왼쪽으로 이동\n",
        "\n",
        "#                8\n",
        "#           3       10\n",
        "#         2   5   9 "
      ]
    },
    {
      "cell_type": "code",
      "source": [
        "# 이진트리 응용 및 구현\n",
        "\n",
        "# 이진트리를 수식 표현에 사용한다. -> 수식 트리\n",
        "\n",
        "# 1 * 2 + ( 7 - 8 )\n",
        "\n",
        "      #          +\n",
        "      #     *         -\n",
        "      #  1     2    7    8   "
      ],
      "metadata": {
        "id": "QZ8aDpAXIWKW"
      },
      "execution_count": null,
      "outputs": []
    },
    {
      "cell_type": "code",
      "source": [
        "class TreeNode():\n",
        "  def __init__(self):   #생성자\n",
        "    self.left = None\n",
        "    self.data = None\n",
        "    self.right = None\n",
        "\n",
        "memory = []\n",
        "root = None\n",
        "nameAry = ['A', 'B', 'C', 'D', 'E', 'F']\n",
        "\n",
        "# 메인 코드\n",
        "node = TreeNode()\n",
        "node.data = nameAry[0]\n",
        "root = node\n",
        "memory.append(node)\n",
        "\n",
        "for name in nameAry[1:]:\n",
        "  node = TreeNode()\n",
        "  node.data = name  #B\n",
        "  current = root\n",
        "  while True:\n",
        "    if name < current.data:\n",
        "      if current.left == None:\n",
        "        current.left = node\n",
        "        break\n",
        "      current = current.left\n",
        "    else:\n",
        "      if current.right == None:\n",
        "        current.right = node\n",
        "        break\n",
        "      current = current.right\n",
        "  memory.append(node)\n",
        "\n",
        "print(\"이진 탐색 트리 구성 완료\")\n",
        "# print(memory)\n",
        "\n",
        "# 이진트리 검색\n",
        "findName = 'C'\n",
        "current = root\n",
        "\n",
        "while True:\n",
        "  if findName == current.data:\n",
        "    print(findName,'를 찾음')\n",
        "    break\n",
        "  elif findName < current.data:\n",
        "    if current.left == None:\n",
        "      print(findName,'가 트리에 없음')\n",
        "      break\n",
        "    current = current.left\n",
        "  else:\n",
        "    if current.right == None:\n",
        "      print(findName,'가 트리에 없습니다')\n",
        "      break\n",
        "    current = current.right\n",
        "\n",
        "\n",
        "# 이진트리 삭제\n",
        "\n",
        "deletName = 'C'\n",
        "current = root\n",
        "parent = None\n",
        "\n",
        "while True:\n",
        "  if deletName == current.data:\n",
        "    if current.left == None and current.right == None:\n",
        "      if parent.left == current:\n",
        "        parent.left = None\n",
        "      else:\n",
        "        parent.right = None\n",
        "      del(current)\n",
        "    elif current.left != None and current.right == None:\n",
        "      if parent.left == current:\n",
        "        parent.left = current.left\n",
        "      else:\n",
        "        parent.right = current.left\n",
        "      del(current)\n",
        "    elif current.left == None and current.right != None:\n",
        "      if parent.left == current:\n",
        "        parent.left = current.right\n",
        "      else:\n",
        "        parent.right = current.left\n",
        "      del(current)\n",
        "    print(deletName,'삭제됨')\n",
        "    break\n",
        "\n",
        "  elif deletName > current.data:\n",
        "    if current.left == None:\n",
        "      print(deletName,'트리에 없음')\n",
        "      break\n",
        "    parent = current\n",
        "    current = current.left\n",
        "\n",
        "  else:\n",
        "    if current.right == None:\n",
        "      print(deletName,'트리에 없음')\n",
        "      break\n",
        "    parent = current\n",
        "    current = current.left"
      ],
      "metadata": {
        "colab": {
          "base_uri": "https://localhost:8080/"
        },
        "id": "92Ex33GkJE1i",
        "outputId": "15471635-259a-4fa5-9363-619b846aa735"
      },
      "execution_count": 10,
      "outputs": [
        {
          "output_type": "stream",
          "name": "stdout",
          "text": [
            "이진 탐색 트리 구성 완료\n",
            "C 를 찾음\n",
            "C 트리에 없음\n"
          ]
        }
      ]
    }
  ]
}