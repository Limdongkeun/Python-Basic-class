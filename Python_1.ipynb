{
  "nbformat": 4,
  "nbformat_minor": 0,
  "metadata": {
    "colab": {
      "name": "Python 1",
      "provenance": [],
      "authorship_tag": "ABX9TyNeVc64byXCJNfSqmoVnA4c",
      "include_colab_link": true
    },
    "kernelspec": {
      "name": "python3",
      "display_name": "Python 3"
    },
    "language_info": {
      "name": "python"
    }
  },
  "cells": [
    {
      "cell_type": "markdown",
      "metadata": {
        "id": "view-in-github",
        "colab_type": "text"
      },
      "source": [
        "<a href=\"https://colab.research.google.com/github/Limdongkeun/Python-Basic-class/blob/main/Python_1.ipynb\" target=\"_parent\"><img src=\"https://colab.research.google.com/assets/colab-badge.svg\" alt=\"Open In Colab\"/></a>"
      ]
    },
    {
      "cell_type": "code",
      "execution_count": null,
      "metadata": {
        "id": "9TnhZo2ZADs_"
      },
      "outputs": [],
      "source": [
        "a,b = input().split()\n",
        "a = int(a)\n",
        "b = int(b)\n",
        "print(a+b)"
      ]
    },
    {
      "cell_type": "code",
      "source": [
        "languages = ['python', 'perl', 'c', 'java']\n",
        "\n",
        "for lang in languages:\n",
        "    if lang in ['python', 'perl']:\n",
        "        print(\"%6s need interpreter\" % lang)\n",
        "    elif lang in ['c', 'java']:\n",
        "        print(\"%6s need compiler\" % lang)\n",
        "    else:\n",
        "        print(\"should not reach here\")"
      ],
      "metadata": {
        "id": "aODVrhIUcFBH"
      },
      "execution_count": null,
      "outputs": []
    },
    {
      "cell_type": "code",
      "source": [
        "\\n\t문자열 안에서 줄을 바꿀 때 사용\n",
        "\\t\t문자열 사이에 탭 간격을 줄 때 사용\n",
        "\\\\\t문자 \\를 그대로 표현할 때 사용\n",
        "\\'\t작은따옴표(')를 그대로 표현할 때 사용\n",
        "\\\"\t큰따옴표(\")를 그대로 표현할 때 사용\n",
        "\\r\t캐리지 리턴(줄 바꿈 문자, 현재 커서를 가장 앞으로 이동)\n",
        "\\f\t폼 피드(줄 바꿈 문자, 현재 커서를 다음 줄로 이동)\n",
        "\\a\t벨 소리(출력할 때 PC 스피커에서 '삑' 소리가 난다)\n",
        "\\b\t백 스페이스\n",
        "\\000\t널 문자"
      ],
      "metadata": {
        "id": "7kMAYMmFcFJJ"
      },
      "execution_count": null,
      "outputs": []
    },
    {
      "cell_type": "code",
      "source": [
        " a = 75\n",
        " b = 80\n",
        " c = 55\n",
        " d = (a+b+c)/3\n",
        " print(d)"
      ],
      "metadata": {
        "id": "jPCprqlicFUG",
        "colab": {
          "base_uri": "https://localhost:8080/"
        },
        "outputId": "724a0bf5-c7aa-4a2d-e924-8d783fd24189"
      },
      "execution_count": 3,
      "outputs": [
        {
          "output_type": "stream",
          "name": "stdout",
          "text": [
            "70.0\n"
          ]
        }
      ]
    },
    {
      "cell_type": "code",
      "source": [
        "a = 13\n",
        "a%2"
      ],
      "metadata": {
        "id": "iH5Th-jBcFYP",
        "colab": {
          "base_uri": "https://localhost:8080/"
        },
        "outputId": "32af1c53-04a8-48a5-85f2-674dddb955f5"
      },
      "execution_count": 4,
      "outputs": [
        {
          "output_type": "execute_result",
          "data": {
            "text/plain": [
              "1"
            ]
          },
          "metadata": {},
          "execution_count": 4
        }
      ]
    },
    {
      "cell_type": "code",
      "source": [
        "year = \"881102-1068244\"\n",
        "a = year[0:2]\n",
        "b = year[2:4]\n",
        "c = year[4:6]\n",
        "print(f'홍길동은 19{a}년생 {b}월 {c}일 생')"
      ],
      "metadata": {
        "colab": {
          "base_uri": "https://localhost:8080/"
        },
        "id": "LWLzLprkAOXY",
        "outputId": "4b4374a2-fb0d-4cc3-867c-04f89f40969e"
      },
      "execution_count": 7,
      "outputs": [
        {
          "output_type": "stream",
          "name": "stdout",
          "text": [
            "홍길동은 1988년생 11월 02일 생\n"
          ]
        }
      ]
    },
    {
      "cell_type": "code",
      "source": [
        "year = \"881102-1068244\"\n",
        "print(year[7])"
      ],
      "metadata": {
        "colab": {
          "base_uri": "https://localhost:8080/"
        },
        "id": "I6bd1XwGBard",
        "outputId": "ad4847cd-7ef2-43c3-a4c5-73bdb73dbb91"
      },
      "execution_count": 12,
      "outputs": [
        {
          "output_type": "stream",
          "name": "stdout",
          "text": [
            "1\n"
          ]
        }
      ]
    },
    {
      "cell_type": "code",
      "source": [
        "a = \"a:b:c:d\"\n",
        "b = a.replace(\":\", \"#\")\n",
        "print(b)"
      ],
      "metadata": {
        "colab": {
          "base_uri": "https://localhost:8080/"
        },
        "id": "RTJjAEz5CPpC",
        "outputId": "daf821ed-8861-458b-8e0a-b23d2202cdce"
      },
      "execution_count": 16,
      "outputs": [
        {
          "output_type": "stream",
          "name": "stdout",
          "text": [
            "a#b#c#d\n"
          ]
        }
      ]
    },
    {
      "cell_type": "code",
      "source": [
        " a = ['a','b','c','d','f']\n",
        " a.reverse()\n",
        " print(a)"
      ],
      "metadata": {
        "colab": {
          "base_uri": "https://localhost:8080/"
        },
        "id": "neZFy4wDkHHZ",
        "outputId": "04be85bc-950e-4eb3-b96e-5d36453764b2"
      },
      "execution_count": 1,
      "outputs": [
        {
          "output_type": "stream",
          "name": "stdout",
          "text": [
            "['f', 'd', 'c', 'b', 'a']\n"
          ]
        }
      ]
    },
    {
      "cell_type": "code",
      "source": [
        "a = ['Life', 'is', 'too', 'short']\n",
        "result = \" \".join(a)\n",
        "print(result)"
      ],
      "metadata": {
        "colab": {
          "base_uri": "https://localhost:8080/"
        },
        "id": "DE8536C1kiOV",
        "outputId": "3598623a-ca62-47cd-8635-591e125e1d49"
      },
      "execution_count": 4,
      "outputs": [
        {
          "output_type": "stream",
          "name": "stdout",
          "text": [
            "Life is too short\n"
          ]
        }
      ]
    },
    {
      "cell_type": "code",
      "source": [
        "a = (1,2,3)\n",
        "a = a + (4,)\n",
        "print(a)"
      ],
      "metadata": {
        "colab": {
          "base_uri": "https://localhost:8080/"
        },
        "id": "OEDvmzKnk7W9",
        "outputId": "319c31f9-714b-40e7-9ec6-9ef4439c8b0c"
      },
      "execution_count": 5,
      "outputs": [
        {
          "output_type": "stream",
          "name": "stdout",
          "text": [
            "(1, 2, 3, 4)\n"
          ]
        }
      ]
    },
    {
      "cell_type": "code",
      "source": [
        "a = {'A':90, 'B':80, 'C':70}\n",
        "result = a.pop('B')\n",
        "print(result)\n",
        "print(a)"
      ],
      "metadata": {
        "colab": {
          "base_uri": "https://localhost:8080/"
        },
        "id": "Dc7IEBXNlz7H",
        "outputId": "c86dac98-37d8-4450-a635-9bd3a2dc2485"
      },
      "execution_count": 10,
      "outputs": [
        {
          "output_type": "stream",
          "name": "stdout",
          "text": [
            "80\n",
            "{'A': 90, 'C': 70}\n"
          ]
        }
      ]
    },
    {
      "cell_type": "code",
      "source": [
        " a = [1, 1, 1, 2, 2, 3, 3, 3, 4, 4, 5]\n",
        " b = set(a)\n",
        " print(b)"
      ],
      "metadata": {
        "colab": {
          "base_uri": "https://localhost:8080/"
        },
        "id": "CvOzSEn-mQ63",
        "outputId": "8936cb79-5a76-4c59-cfb5-52dba6d184b3"
      },
      "execution_count": 11,
      "outputs": [
        {
          "output_type": "stream",
          "name": "stdout",
          "text": [
            "{1, 2, 3, 4, 5}\n"
          ]
        }
      ]
    }
  ]
}