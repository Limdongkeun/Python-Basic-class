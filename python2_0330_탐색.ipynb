{
  "nbformat": 4,
  "nbformat_minor": 0,
  "metadata": {
    "colab": {
      "name": "python2.0330 탐색.ipynb",
      "provenance": [],
      "authorship_tag": "ABX9TyPF470TPX1lAYJ6XnzlEuPe",
      "include_colab_link": true
    },
    "kernelspec": {
      "name": "python3",
      "display_name": "Python 3"
    },
    "language_info": {
      "name": "python"
    }
  },
  "cells": [
    {
      "cell_type": "markdown",
      "metadata": {
        "id": "view-in-github",
        "colab_type": "text"
      },
      "source": [
        "<a href=\"https://colab.research.google.com/github/Limdongkeun/Python-Basic-class/blob/main/python2_0330_%ED%83%90%EC%83%89.ipynb\" target=\"_parent\"><img src=\"https://colab.research.google.com/assets/colab-badge.svg\" alt=\"Open In Colab\"/></a>"
      ]
    },
    {
      "cell_type": "code",
      "execution_count": null,
      "metadata": {
        "id": "XadglWGhy9ZL"
      },
      "outputs": [],
      "source": [
        "# 선형 탐색법   linear search\n",
        "# 맨 앞부터 순서대로 조사해서 원하는 값을 찾는 알고리즘\n",
        "# 알고리즘은 단순하여 이해하기 쉽다\n",
        "# 탐색 효율은 좋지 않다\n",
        "\n",
        "# 4 2 3 5 1 찾는 데이터가 5이면 4번만에 찾는다"
      ]
    },
    {
      "cell_type": "code",
      "source": [
        "def linearSearch(arr, no):\n",
        "  for i in range(len(arr)):\n",
        "    if arr[i] == no:\n",
        "      return print('찾는 값이 위치한 인덱스: {}'.format(i))\n",
        "    if no not in arr:\n",
        "      return print('찾는 값이 없습니다')\n",
        "\n",
        "\n",
        "arr = [4,2,3,5,1]\n",
        "no = 5\n",
        "linearSearch(arr, no)"
      ],
      "metadata": {
        "colab": {
          "base_uri": "https://localhost:8080/"
        },
        "id": "qKh8jd53zpSz",
        "outputId": "9d98236f-a238-4d48-e589-75593de76c2e"
      },
      "execution_count": 10,
      "outputs": [
        {
          "output_type": "stream",
          "name": "stdout",
          "text": [
            "찾는 값이 위치한 인덱스: 3\n"
          ]
        }
      ]
    },
    {
      "cell_type": "code",
      "source": [
        "# 이진 탐색법 \n",
        "# 전제 조건 : 탐색할 데이터들이 미리 정렬이 된 상태에서만 사용할 수 있다\n",
        "\n",
        "# 11 13 17 19 23 29 31 찾는 데이터 17\n",
        "\n",
        "\n",
        "# x x x 19 x x x \n",
        "#       --           제일 가운대 값을 깐다 // 내가 찾는 17이 아니다 // 하지만 정렬이 되있으니까 앞에 3개만 보면된다\n",
        "\n",
        "# x x x              3개로 대상을 줄임\n",
        "\n",
        "# x 13 x             남은 것중에 또 가운대를 깐따 // 내가 찾는 17이 아니다 \n",
        "\n",
        "# x 13 17 "
      ],
      "metadata": {
        "id": "zoIGL-d-2V1E"
      },
      "execution_count": null,
      "outputs": []
    },
    {
      "cell_type": "code",
      "source": [
        "# homework\n",
        "\n",
        "# 선택, 버블, 삽입, 퀵\n",
        "# 선형, 이진, 해시\n",
        "\n",
        "# 파이썬 구현 코드"
      ],
      "metadata": {
        "id": "hq715e4a2u72"
      },
      "execution_count": null,
      "outputs": []
    }
  ]
}