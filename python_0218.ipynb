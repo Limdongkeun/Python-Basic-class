{
  "nbformat": 4,
  "nbformat_minor": 0,
  "metadata": {
    "colab": {
      "name": "\bpython 0218",
      "provenance": [],
      "authorship_tag": "ABX9TyMzABu8oJ6wnruWhKDgUGMs",
      "include_colab_link": true
    },
    "kernelspec": {
      "name": "python3",
      "display_name": "Python 3"
    },
    "language_info": {
      "name": "python"
    }
  },
  "cells": [
    {
      "cell_type": "markdown",
      "metadata": {
        "id": "view-in-github",
        "colab_type": "text"
      },
      "source": [
        "<a href=\"https://colab.research.google.com/github/Limdongkeun/Python-Basic-class/blob/main/%08python_0218.ipynb\" target=\"_parent\"><img src=\"https://colab.research.google.com/assets/colab-badge.svg\" alt=\"Open In Colab\"/></a>"
      ]
    },
    {
      "cell_type": "code",
      "execution_count": null,
      "metadata": {
        "id": "aJr2sMxnPCce"
      },
      "outputs": [],
      "source": [
        "# 예제\n",
        "# 1\n",
        "num = '31025'\n",
        "a = num[0]\n",
        "b = num[1:3]\n",
        "c = num[3:5]\n",
        "print(a,'학년', b,'반', c,'번')\n",
        "print(f'{a}학년 {b}반 {c}번')# f 스트링\n",
        "\n",
        "\n",
        "# 2\n",
        "num1 = '서울2가1234'\n",
        "num4 = num1[-4:]\n",
        "print(num1,'의 차량번호 4자리는', num4,'입니다')\n",
        "print(f'{num1}의 차량번호 4자리는, {num4}입니다')\n",
        "\n",
        "\n",
        "\n",
        "#3\n",
        "str = 'maple'\n",
        "cnt = str[len(str)//2] # // 는 나머지를 버리고 몫만 취한다  % 는 몫은 버리고 나머지를 취한다\n",
        "print(str,'의 가운데 글자는',cnt)\n",
        "print(f'{str}의 가운데 글자는 {cnt}')\n",
        "\n",
        "#4\n",
        "list = [10,20,30,40,50,60,70,80,90,100]\n",
        "num = list[2:7]\n",
        "num1 = num[1]\n",
        "print(f'3번째 요소부터 7번째 요소 = {num}')\n",
        "print(f'3번째 요소부터 7번째 요소중 2번째는 = {num1}')\n",
        "\n",
        "\n",
        "#5\n",
        "dict = {'금요일':'탕수육',\n",
        "        '토요일':'유산슬',\n",
        "        '일요일':'팔보채'}\n",
        "\n",
        "print('금요일 :',dict['금요일'])\n",
        "print('토요일 :',dict['토요일'])\n",
        "print('일요일 :',dict['일요일'])\n"
      ]
    },
    {
      "cell_type": "code",
      "source": [
        "# \\n 줄바꿈\n",
        "# \\t 탭 간격 띄우기\n",
        "\n",
        "print('hello \\'world\\'')\n",
        "print(\"hello 'world'\")\n",
        "print(\"hello \\\"world\\\"\")\n",
        "print('hello \"world\"')\n",
        "\n",
        "print('hello \\n\\'world\\'')\n",
        "print('*\\n**\\n***')\n",
        "\n",
        "print('이름\\t연락처')\n",
        "print('ddd\\t010-40120-4120')\n",
        "print('qqdfgq\\t01401240')"
      ],
      "metadata": {
        "id": "yk4yUHqYiNNs"
      },
      "execution_count": null,
      "outputs": []
    },
    {
      "cell_type": "code",
      "source": [
        "# print() 함수\n",
        "# 띄어쓰기 구분자 설정 항목을 무엇으로 구분할지 sep = ' '\n",
        "print('재미있는','파이선')\n",
        "print('재미있는','파이선', sep = ',')\n",
        "print('재미있는','파이선', sep = '/')\n",
        "print('재미있는','파이선', sep = ':')\n",
        "\n",
        "print('영화 타이타닉')\n",
        "print('평점',end = ': ') #print문은 줄바꿈이 기본적으로 적용되지만 end = ''을 쓰면 줄바꿈 되지않고 옆으로 나옴\n",
        "print('10점')"
      ],
      "metadata": {
        "id": "-_AtH6OBlRDB"
      },
      "execution_count": null,
      "outputs": []
    },
    {
      "cell_type": "code",
      "source": [
        "# % 연산자\n",
        "\n",
        "print('%d'%10)\n",
        "print('%o'%10) # %o 정수인데 8진수\n",
        "print('%x'%10) # %x 정수인데 16진수\n",
        "\n",
        "print('%f'%1.2)\n",
        "\n",
        "print('%s' %1.14)\n",
        "print('%s'%'python')\n",
        "\n",
        "print('%5d'%1) #오른쪽 5칸을 확보\n",
        "print('%4s'%'saf')\n",
        "print('%-5d'%6) #왼쪽 5칸을 확보\n",
        "\n",
        "print('%5.2f'%3.14) #오른쪽에 5칸을 확보하고 소수점 2자리까지 출력\n",
        "print('%-5.2f'%3.14)#왼쪽에 5칸을 확보하고 소수점 2자리까지 출력\n",
        "print('%.3f'%3.14) #소수점 아래를 표현"
      ],
      "metadata": {
        "id": "SJK9ZeNZofW8"
      },
      "execution_count": null,
      "outputs": []
    },
    {
      "cell_type": "code",
      "source": [
        "#기본\n",
        "a = '학생'\n",
        "\n",
        "#기본 출력\n",
        "print(a,'입니다')\n",
        "\n",
        "#f string\n",
        "print(f'{a}입니다')\n",
        "\n",
        "#%연산자\n",
        "print('%s압니다'%a)\n",
        "\n",
        "#format()\n",
        "print('{}입니다'.format(a))"
      ],
      "metadata": {
        "id": "9fQ0cwbnvbyj"
      },
      "execution_count": null,
      "outputs": []
    },
    {
      "cell_type": "code",
      "source": [
        "#format() 매서드\n",
        "print('My name is {}'.format('dk'))\n",
        "print('My name is {name}'.format(name='dk'))\n",
        "print('My name is {} i\\'m {} year old.'.format('dk',27))\n",
        "print('My name is {0} i\\'m {1} year old.'.format('dk',27))\n",
        "print('My name is {name} i\\'m {age} year old.'.format(name='dk',age=27))\n"
      ],
      "metadata": {
        "id": "FPTtaDhAwXFN"
      },
      "execution_count": null,
      "outputs": []
    },
    {
      "cell_type": "code",
      "source": [
        "#f stirng\n",
        "who ='i\\'m'\n",
        "now ='happy'\n",
        "print(f'{who} {now}')\n",
        "\n",
        "age = 27\n",
        "print(f'내년엔 {age+1}')\n"
      ],
      "metadata": {
        "id": "VL2zVrlDx-Gq"
      },
      "execution_count": null,
      "outputs": []
    },
    {
      "cell_type": "code",
      "source": [
        "#표준 입력\n",
        "a = input()\n",
        "print(a)\n",
        "\n",
        "n = input('정수를 입력 :')\n",
        "print(n)\n",
        "\n"
      ],
      "metadata": {
        "id": "dbkvmycEzFbc"
      },
      "execution_count": null,
      "outputs": []
    },
    {
      "cell_type": "code",
      "source": [
        "#예제 2\n",
        "name = input('이름 :')\n",
        "age = input('나이 :')\n",
        "\n",
        "print(f'{name}은 {age}')\n",
        "print('이름은{}, 나이는{}'.format(name,age))\n",
        "print('이름은%s '%name)\n",
        "print('나이는%s'%age)"
      ],
      "metadata": {
        "colab": {
          "base_uri": "https://localhost:8080/"
        },
        "id": "wdizz4dXz21p",
        "outputId": "1acd311b-dc4f-4716-8496-c94e672c51eb"
      },
      "execution_count": 145,
      "outputs": [
        {
          "output_type": "stream",
          "name": "stdout",
          "text": [
            "이름 :dd\n",
            "나이 :11\n",
            "dd은 11\n",
            "이름은dd, 나이는11\n",
            "이름은dd \n",
            "나이는11\n"
          ]
        }
      ]
    }
  ]
}