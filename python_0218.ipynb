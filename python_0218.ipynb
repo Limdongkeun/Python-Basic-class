{
  "nbformat": 4,
  "nbformat_minor": 0,
  "metadata": {
    "colab": {
      "name": "\bpython 0218",
      "provenance": [],
      "collapsed_sections": [],
      "authorship_tag": "ABX9TyPNC2WcQVCJFR5DRde04H+p",
      "include_colab_link": true
    },
    "kernelspec": {
      "name": "python3",
      "display_name": "Python 3"
    },
    "language_info": {
      "name": "python"
    }
  },
  "cells": [
    {
      "cell_type": "markdown",
      "metadata": {
        "id": "view-in-github",
        "colab_type": "text"
      },
      "source": [
        "<a href=\"https://colab.research.google.com/github/Limdongkeun/Python-Basic-class/blob/main/%08python_0218.ipynb\" target=\"_parent\"><img src=\"https://colab.research.google.com/assets/colab-badge.svg\" alt=\"Open In Colab\"/></a>"
      ]
    },
    {
      "cell_type": "code",
      "source": [
        "# list tuple dict set\n",
        "\n",
        "# list    []  indexing/slicing    mutable(del,ins)   [1]\n",
        "# tuple   ()  indexing/slicing    immutable          (1,)\n",
        "# dict    {}      X (unordered)   mutable(del,ins)   {'key':'value'}\n",
        "# set     {}      X (unordered)   mutable(del,ins)   {1,2,3}"
      ],
      "metadata": {
        "id": "IulNrnIYvOvk"
      },
      "execution_count": null,
      "outputs": []
    },
    {
      "cell_type": "code",
      "execution_count": 1,
      "metadata": {
        "id": "aJr2sMxnPCce",
        "colab": {
          "base_uri": "https://localhost:8080/"
        },
        "outputId": "2d4be4de-5c3b-4886-a53b-94e0548ba7fa"
      },
      "outputs": [
        {
          "output_type": "stream",
          "name": "stdout",
          "text": [
            "3 학년 10 반 25 번\n",
            "3학년 10반 25번\n",
            "서울2가1234 의 차량번호 4자리는 1234 입니다\n",
            "서울2가1234의 차량번호 4자리는, 1234입니다\n",
            "maple 의 가운데 글자는 p\n",
            "maple의 가운데 글자는 p\n",
            "3번째 요소부터 7번째 요소 = [30, 40, 50, 60, 70]\n",
            "3번째 요소부터 7번째 요소중 2번째는 = 40\n",
            "금요일 : 탕수육\n",
            "토요일 : 유산슬\n",
            "일요일 : 팔보채\n"
          ]
        }
      ],
      "source": [
        "# 예제\n",
        "# 1\n",
        "num = '31025'\n",
        "a = num[0]\n",
        "b = num[1:3]\n",
        "c = num[3:5]\n",
        "print(a,'학년', b,'반', c,'번')\n",
        "print(f'{a}학년 {b}반 {c}번')# f 스트링\n",
        "\n",
        "\n",
        "# 2\n",
        "num1 = '서울2가1234'\n",
        "num4 = num1[-4:]\n",
        "print(num1,'의 차량번호 4자리는', num4,'입니다')\n",
        "print(f'{num1}의 차량번호 4자리는, {num4}입니다')\n",
        "\n",
        "\n",
        "\n",
        "#3\n",
        "str = 'maple'\n",
        "cnt = str[len(str)//2] # // 는 나머지를 버리고 몫만 취한다  % 는 몫은 버리고 나머지를 취한다\n",
        "print(str,'의 가운데 글자는',cnt)\n",
        "print(f'{str}의 가운데 글자는 {cnt}')\n",
        "\n",
        "#4\n",
        "list = [10,20,30,40,50,60,70,80,90,100]\n",
        "num = list[2:7]\n",
        "num1 = num[1]\n",
        "print(f'3번째 요소부터 7번째 요소 = {num}')\n",
        "print(f'3번째 요소부터 7번째 요소중 2번째는 = {num1}')\n",
        "\n",
        "\n",
        "#5\n",
        "dict = {'금요일':'탕수육',\n",
        "        '토요일':'유산슬',\n",
        "        '일요일':'팔보채'}\n",
        "\n",
        "print('금요일 :',dict['금요일'])\n",
        "print('토요일 :',dict['토요일'])\n",
        "print('일요일 :',dict['일요일'])\n"
      ]
    },
    {
      "cell_type": "code",
      "source": [
        "# \\n 줄바꿈\n",
        "# \\t 탭 간격 띄우기\n",
        "\n",
        "print('hello \\'world\\'')\n",
        "print(\"hello 'world'\")\n",
        "print(\"hello \\\"world\\\"\")\n",
        "print('hello \"world\"')\n",
        "\n",
        "print('hello \\n\\'world\\'')\n",
        "print('*\\n**\\n***')\n",
        "\n",
        "print('이름\\t연락처')\n",
        "print('ddd\\t010-40120-4120')\n",
        "print('qqdfgq\\t01401240')"
      ],
      "metadata": {
        "id": "yk4yUHqYiNNs",
        "colab": {
          "base_uri": "https://localhost:8080/"
        },
        "outputId": "5114984f-0ab2-4ab5-9986-44b562ce38f1"
      },
      "execution_count": 2,
      "outputs": [
        {
          "output_type": "stream",
          "name": "stdout",
          "text": [
            "hello 'world'\n",
            "hello 'world'\n",
            "hello \"world\"\n",
            "hello \"world\"\n",
            "hello \n",
            "'world'\n",
            "*\n",
            "**\n",
            "***\n",
            "이름\t연락처\n",
            "ddd\t010-40120-4120\n",
            "qqdfgq\t01401240\n"
          ]
        }
      ]
    },
    {
      "cell_type": "code",
      "source": [
        "# print() 함수\n",
        "# 띄어쓰기 구분자 설정 항목을 무엇으로 구분할지 sep = ' '\n",
        "print('재미있는','파이선')\n",
        "print('재미있는','파이선', sep = ',')\n",
        "print('재미있는','파이선', sep = '/')\n",
        "print('재미있는','파이선', sep = ':')\n",
        "\n",
        "print('영화 타이타닉')\n",
        "print('평점',end = ': ') #print문은 줄바꿈이 기본적으로 적용되지만 end = ''을 쓰면 줄바꿈 되지않고 옆으로 나옴\n",
        "print('10점')"
      ],
      "metadata": {
        "id": "-_AtH6OBlRDB",
        "colab": {
          "base_uri": "https://localhost:8080/"
        },
        "outputId": "39539596-f3f0-46c2-a721-c85ec3c7c7a6"
      },
      "execution_count": 3,
      "outputs": [
        {
          "output_type": "stream",
          "name": "stdout",
          "text": [
            "재미있는 파이선\n",
            "재미있는,파이선\n",
            "재미있는/파이선\n",
            "재미있는:파이선\n",
            "영화 타이타닉\n",
            "평점: 10점\n"
          ]
        }
      ]
    },
    {
      "cell_type": "code",
      "source": [
        "# % 연산자\n",
        "\n",
        "print('%d'%10)\n",
        "print('%o'%10) # %o 정수인데 8진수\n",
        "print('%x'%10) # %x 정수인데 16진수\n",
        "\n",
        "print('%f'%1.2)\n",
        "\n",
        "print('%s' %1.14)\n",
        "print('%s'%'python')\n",
        "\n",
        "print('%5d'%1) #오른쪽 5칸을 확보\n",
        "print('%4s'%'saf')\n",
        "print('%-5d'%6) #왼쪽 5칸을 확보\n",
        "\n",
        "print('%5.2f'%3.14) #오른쪽에 5칸을 확보하고 소수점 2자리까지 출력\n",
        "print('%-5.2f'%3.14)#왼쪽에 5칸을 확보하고 소수점 2자리까지 출력\n",
        "print('%.3f'%3.14) #소수점 아래를 표현"
      ],
      "metadata": {
        "id": "SJK9ZeNZofW8",
        "colab": {
          "base_uri": "https://localhost:8080/"
        },
        "outputId": "24b4f4f4-2a8b-47b5-ff21-9e5cce3f96f7"
      },
      "execution_count": 4,
      "outputs": [
        {
          "output_type": "stream",
          "name": "stdout",
          "text": [
            "10\n",
            "12\n",
            "a\n",
            "1.200000\n",
            "1.14\n",
            "python\n",
            "    1\n",
            " saf\n",
            "6    \n",
            " 3.14\n",
            "3.14 \n",
            "3.140\n"
          ]
        }
      ]
    },
    {
      "cell_type": "code",
      "source": [
        "#기본\n",
        "a = '학생'\n",
        "\n",
        "#기본 출력\n",
        "print(a,'입니다')\n",
        "\n",
        "#f string\n",
        "print(f'{a}입니다')\n",
        "\n",
        "#%연산자\n",
        "print('%s압니다'%a)\n",
        "\n",
        "#format()\n",
        "print('{}입니다'.format(a))"
      ],
      "metadata": {
        "id": "9fQ0cwbnvbyj",
        "colab": {
          "base_uri": "https://localhost:8080/"
        },
        "outputId": "258efe18-d155-4af6-fbb9-4c5c71644927"
      },
      "execution_count": 5,
      "outputs": [
        {
          "output_type": "stream",
          "name": "stdout",
          "text": [
            "학생 입니다\n",
            "학생입니다\n",
            "학생압니다\n",
            "학생입니다\n"
          ]
        }
      ]
    },
    {
      "cell_type": "code",
      "source": [
        "#format() 매서드\n",
        "print('My name is {}'.format('dk'))\n",
        "print('My name is {name}'.format(name='dk'))\n",
        "print('My name is {} i\\'m {} year old.'.format('dk',27))\n",
        "print('My name is {0} i\\'m {1} year old.'.format('dk',27))\n",
        "print('My name is {name} i\\'m {age} year old.'.format(name='dk',age=27))\n"
      ],
      "metadata": {
        "id": "FPTtaDhAwXFN",
        "colab": {
          "base_uri": "https://localhost:8080/"
        },
        "outputId": "f54cc3fd-1673-4cfa-93e9-ae048c529dff"
      },
      "execution_count": 6,
      "outputs": [
        {
          "output_type": "stream",
          "name": "stdout",
          "text": [
            "My name is dk\n",
            "My name is dk\n",
            "My name is dk i'm 27 year old.\n",
            "My name is dk i'm 27 year old.\n",
            "My name is dk i'm 27 year old.\n"
          ]
        }
      ]
    },
    {
      "cell_type": "code",
      "source": [
        "#f stirng\n",
        "who ='i\\'m'\n",
        "now ='happy'\n",
        "print(f'{who} {now}')\n",
        "\n",
        "age = 27\n",
        "print(f'내년엔 {age+1}')\n"
      ],
      "metadata": {
        "id": "VL2zVrlDx-Gq",
        "colab": {
          "base_uri": "https://localhost:8080/"
        },
        "outputId": "4c7e2f41-e290-48fe-e01f-160bed7871fe"
      },
      "execution_count": 7,
      "outputs": [
        {
          "output_type": "stream",
          "name": "stdout",
          "text": [
            "i'm happy\n",
            "내년엔 28\n"
          ]
        }
      ]
    },
    {
      "cell_type": "code",
      "source": [
        "#표준 입력  input에 들어온 데이터는 전부 문자\n",
        "a = input()\n",
        "print(a)\n",
        "\n",
        "n = input('정수를 입력 :')\n",
        "print(n)\n",
        "\n",
        "n = int(input('정수입력 :'))\n",
        "print(type(n))\n",
        "\n",
        "#input을 통해 입력된 모든 데이터는 전부 문자로 받느다\n",
        "#따라서 숫자로 입력을 받기 위해서는 캐스팅\n"
      ],
      "metadata": {
        "id": "dbkvmycEzFbc",
        "colab": {
          "base_uri": "https://localhost:8080/"
        },
        "outputId": "e0ffc7e8-f708-4b30-e3ef-6d6020f1fc9a"
      },
      "execution_count": 9,
      "outputs": [
        {
          "output_type": "stream",
          "name": "stdout",
          "text": [
            "1\n",
            "1\n",
            "정수를 입력 :5\n",
            "5\n"
          ]
        }
      ]
    },
    {
      "cell_type": "code",
      "source": [
        "#예제 2\n",
        "name = input('이름 :')\n",
        "age = input('나이 :')\n",
        "\n",
        "print(f'{name}은 {age}')\n",
        "print('이름은{}, 나이는{}'.format(name,age))\n",
        "print('이름은%s '%name)\n",
        "print('나이는%s'%age)"
      ],
      "metadata": {
        "id": "wdizz4dXz21p"
      },
      "execution_count": null,
      "outputs": []
    }
  ]
}