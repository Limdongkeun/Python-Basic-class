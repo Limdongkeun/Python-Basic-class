{
  "nbformat": 4,
  "nbformat_minor": 0,
  "metadata": {
    "colab": {
      "name": "Python baekjoon",
      "provenance": [],
      "collapsed_sections": [],
      "authorship_tag": "ABX9TyOST12NGs4WKKqV74SEZwQ3",
      "include_colab_link": true
    },
    "kernelspec": {
      "name": "python3",
      "display_name": "Python 3"
    },
    "language_info": {
      "name": "python"
    }
  },
  "cells": [
    {
      "cell_type": "markdown",
      "metadata": {
        "id": "view-in-github",
        "colab_type": "text"
      },
      "source": [
        "<a href=\"https://colab.research.google.com/github/Limdongkeun/Python-Basic-class/blob/main/Python_baekjoon.ipynb\" target=\"_parent\"><img src=\"https://colab.research.google.com/assets/colab-badge.svg\" alt=\"Open In Colab\"/></a>"
      ]
    },
    {
      "cell_type": "code",
      "execution_count": null,
      "metadata": {
        "id": "9TnhZo2ZADs_"
      },
      "outputs": [],
      "source": [
        "a,b = input().split()\n",
        "a = int(a)\n",
        "b = int(b)\n",
        "print(a+b)"
      ]
    },
    {
      "cell_type": "code",
      "source": [
        "languages = ['python', 'perl', 'c', 'java']\n",
        "\n",
        "for lang in languages:\n",
        "    if lang in ['python', 'perl']:\n",
        "        print(\"%6s need interpreter\" % lang)\n",
        "    elif lang in ['c', 'java']:\n",
        "        print(\"%6s need compiler\" % lang)\n",
        "    else:\n",
        "        print(\"should not reach here\")"
      ],
      "metadata": {
        "id": "aODVrhIUcFBH"
      },
      "execution_count": null,
      "outputs": []
    },
    {
      "cell_type": "code",
      "source": [
        "\\n\t문자열 안에서 줄을 바꿀 때 사용\n",
        "\\t\t문자열 사이에 탭 간격을 줄 때 사용\n",
        "\\\\\t문자 \\를 그대로 표현할 때 사용\n",
        "\\'\t작은따옴표(')를 그대로 표현할 때 사용\n",
        "\\\"\t큰따옴표(\")를 그대로 표현할 때 사용\n",
        "\\r\t캐리지 리턴(줄 바꿈 문자, 현재 커서를 가장 앞으로 이동)\n",
        "\\f\t폼 피드(줄 바꿈 문자, 현재 커서를 다음 줄로 이동)\n",
        "\\a\t벨 소리(출력할 때 PC 스피커에서 '삑' 소리가 난다)\n",
        "\\b\t백 스페이스\n",
        "\\000\t널 문자"
      ],
      "metadata": {
        "id": "7kMAYMmFcFJJ"
      },
      "execution_count": null,
      "outputs": []
    },
    {
      "cell_type": "code",
      "source": [
        " a = 75\n",
        " b = 80\n",
        " c = 55\n",
        " d = (a+b+c)/3\n",
        " print(d)"
      ],
      "metadata": {
        "id": "jPCprqlicFUG",
        "colab": {
          "base_uri": "https://localhost:8080/"
        },
        "outputId": "724a0bf5-c7aa-4a2d-e924-8d783fd24189"
      },
      "execution_count": null,
      "outputs": [
        {
          "output_type": "stream",
          "name": "stdout",
          "text": [
            "70.0\n"
          ]
        }
      ]
    },
    {
      "cell_type": "code",
      "source": [
        "a = 13\n",
        "a%2"
      ],
      "metadata": {
        "id": "iH5Th-jBcFYP",
        "colab": {
          "base_uri": "https://localhost:8080/"
        },
        "outputId": "32af1c53-04a8-48a5-85f2-674dddb955f5"
      },
      "execution_count": null,
      "outputs": [
        {
          "output_type": "execute_result",
          "data": {
            "text/plain": [
              "1"
            ]
          },
          "metadata": {},
          "execution_count": 4
        }
      ]
    },
    {
      "cell_type": "code",
      "source": [
        "year = \"881102-1068244\"\n",
        "a = year[0:2]\n",
        "b = year[2:4]\n",
        "c = year[4:6]\n",
        "print(f'홍길동은 19{a}년생 {b}월 {c}일 생')"
      ],
      "metadata": {
        "colab": {
          "base_uri": "https://localhost:8080/"
        },
        "id": "LWLzLprkAOXY",
        "outputId": "4b4374a2-fb0d-4cc3-867c-04f89f40969e"
      },
      "execution_count": null,
      "outputs": [
        {
          "output_type": "stream",
          "name": "stdout",
          "text": [
            "홍길동은 1988년생 11월 02일 생\n"
          ]
        }
      ]
    },
    {
      "cell_type": "code",
      "source": [
        "year = \"881102-1068244\"\n",
        "print(year[7])"
      ],
      "metadata": {
        "colab": {
          "base_uri": "https://localhost:8080/"
        },
        "id": "I6bd1XwGBard",
        "outputId": "ad4847cd-7ef2-43c3-a4c5-73bdb73dbb91"
      },
      "execution_count": null,
      "outputs": [
        {
          "output_type": "stream",
          "name": "stdout",
          "text": [
            "1\n"
          ]
        }
      ]
    },
    {
      "cell_type": "code",
      "source": [
        "a = \"a:b:c:d\"\n",
        "b = a.replace(\":\", \"#\")\n",
        "print(b)"
      ],
      "metadata": {
        "colab": {
          "base_uri": "https://localhost:8080/"
        },
        "id": "RTJjAEz5CPpC",
        "outputId": "daf821ed-8861-458b-8e0a-b23d2202cdce"
      },
      "execution_count": null,
      "outputs": [
        {
          "output_type": "stream",
          "name": "stdout",
          "text": [
            "a#b#c#d\n"
          ]
        }
      ]
    },
    {
      "cell_type": "code",
      "source": [
        " a = ['a','b','c','d','f']\n",
        " a.reverse()\n",
        " print(a)"
      ],
      "metadata": {
        "colab": {
          "base_uri": "https://localhost:8080/"
        },
        "id": "neZFy4wDkHHZ",
        "outputId": "04be85bc-950e-4eb3-b96e-5d36453764b2"
      },
      "execution_count": null,
      "outputs": [
        {
          "output_type": "stream",
          "name": "stdout",
          "text": [
            "['f', 'd', 'c', 'b', 'a']\n"
          ]
        }
      ]
    },
    {
      "cell_type": "code",
      "source": [
        "a = ['Life', 'is', 'too', 'short']\n",
        "result = \" \".join(a)\n",
        "print(result)"
      ],
      "metadata": {
        "colab": {
          "base_uri": "https://localhost:8080/"
        },
        "id": "DE8536C1kiOV",
        "outputId": "3598623a-ca62-47cd-8635-591e125e1d49"
      },
      "execution_count": null,
      "outputs": [
        {
          "output_type": "stream",
          "name": "stdout",
          "text": [
            "Life is too short\n"
          ]
        }
      ]
    },
    {
      "cell_type": "code",
      "source": [
        "a = (1,2,3)\n",
        "a = a + (4,)\n",
        "print(a)"
      ],
      "metadata": {
        "colab": {
          "base_uri": "https://localhost:8080/"
        },
        "id": "OEDvmzKnk7W9",
        "outputId": "319c31f9-714b-40e7-9ec6-9ef4439c8b0c"
      },
      "execution_count": null,
      "outputs": [
        {
          "output_type": "stream",
          "name": "stdout",
          "text": [
            "(1, 2, 3, 4)\n"
          ]
        }
      ]
    },
    {
      "cell_type": "code",
      "source": [
        "a = {'A':90, 'B':80, 'C':70}\n",
        "result = a.pop('B')\n",
        "print(result)\n",
        "print(a)"
      ],
      "metadata": {
        "colab": {
          "base_uri": "https://localhost:8080/"
        },
        "id": "Dc7IEBXNlz7H",
        "outputId": "c86dac98-37d8-4450-a635-9bd3a2dc2485"
      },
      "execution_count": null,
      "outputs": [
        {
          "output_type": "stream",
          "name": "stdout",
          "text": [
            "80\n",
            "{'A': 90, 'C': 70}\n"
          ]
        }
      ]
    },
    {
      "cell_type": "code",
      "source": [
        " a = [1, 1, 1, 2, 2, 3, 3, 3, 4, 4, 5]\n",
        " b = set(a)\n",
        " print(b)"
      ],
      "metadata": {
        "colab": {
          "base_uri": "https://localhost:8080/"
        },
        "id": "CvOzSEn-mQ63",
        "outputId": "8936cb79-5a76-4c59-cfb5-52dba6d184b3"
      },
      "execution_count": null,
      "outputs": [
        {
          "output_type": "stream",
          "name": "stdout",
          "text": [
            "{1, 2, 3, 4, 5}\n"
          ]
        }
      ]
    },
    {
      "cell_type": "code",
      "source": [
        "a = input()\n",
        "if a == 1:\n",
        "  print(\"dd\")\n",
        "else:\n",
        "  print(\"aa\")"
      ],
      "metadata": {
        "colab": {
          "base_uri": "https://localhost:8080/"
        },
        "id": "q1xeKaVgsbch",
        "outputId": "45f9bf1e-4706-42bc-8cb6-565000c93c82"
      },
      "execution_count": null,
      "outputs": [
        {
          "output_type": "stream",
          "name": "stdout",
          "text": [
            "1\n",
            "aa\n"
          ]
        }
      ]
    },
    {
      "cell_type": "code",
      "source": [
        "a = int(input())\n",
        "b = int(input())\n",
        "\n",
        "print(a+b)"
      ],
      "metadata": {
        "colab": {
          "base_uri": "https://localhost:8080/"
        },
        "id": "xzTpcHmaZRre",
        "outputId": "47dc7075-cad8-4e3a-85f6-1139690d9c4e"
      },
      "execution_count": null,
      "outputs": [
        {
          "output_type": "stream",
          "name": "stdout",
          "text": [
            "1\n",
            "2\n",
            "3\n"
          ]
        }
      ]
    },
    {
      "cell_type": "code",
      "source": [
        "print(len('hello world!'))"
      ],
      "metadata": {
        "colab": {
          "base_uri": "https://localhost:8080/"
        },
        "id": "oPF1p2YekWef",
        "outputId": "270a2603-fbc0-4299-cdf2-545be530e911"
      },
      "execution_count": null,
      "outputs": [
        {
          "output_type": "stream",
          "name": "stdout",
          "text": [
            "12\n"
          ]
        }
      ]
    },
    {
      "cell_type": "code",
      "source": [
        "def eng():\n",
        "  n = 3\n",
        "  for i in range(n):\n",
        "    print('a','b','c')\n",
        "eng()    "
      ],
      "metadata": {
        "colab": {
          "base_uri": "https://localhost:8080/"
        },
        "id": "dBLgLZbikWbX",
        "outputId": "a5a9b590-ef90-4e07-dd2a-a18ef76059f2"
      },
      "execution_count": null,
      "outputs": [
        {
          "output_type": "stream",
          "name": "stdout",
          "text": [
            "a b c\n",
            "a b c\n",
            "a b c\n"
          ]
        }
      ]
    },
    {
      "cell_type": "code",
      "source": [
        "def get_vat(price,vat_rate=0.1):\n",
        "  print(price*vat_rate)\n",
        "\n",
        "get_vat(10000)\n",
        "get_vat(20000,0.3)"
      ],
      "metadata": {
        "colab": {
          "base_uri": "https://localhost:8080/"
        },
        "id": "FnCdlQKVkWYQ",
        "outputId": "a70e316c-113a-4b60-845d-ecb6aa6e6e90"
      },
      "execution_count": null,
      "outputs": [
        {
          "output_type": "stream",
          "name": "stdout",
          "text": [
            "1000.0\n",
            "6000.0\n"
          ]
        }
      ]
    },
    {
      "cell_type": "code",
      "source": [
        "def get_vat(price,vat_rate=0.1):\n",
        "  return price*vat_rate\n",
        "\n",
        "print(get_vat(10000))\n",
        "print(get_vat(20000,0.3))"
      ],
      "metadata": {
        "colab": {
          "base_uri": "https://localhost:8080/"
        },
        "id": "nuHbwDTKkWVH",
        "outputId": "f7215fcd-5786-4850-e157-2653ea044798"
      },
      "execution_count": null,
      "outputs": [
        {
          "output_type": "stream",
          "name": "stdout",
          "text": [
            "1000.0\n",
            "6000.0\n"
          ]
        }
      ]
    },
    {
      "cell_type": "code",
      "source": [
        "# 입출력과 사친연산\n",
        "a,b = input().split()\n",
        "a = int(a)\n",
        "b = int(b)\n",
        "print(a+b)"
      ],
      "metadata": {
        "id": "ivA0cXXRkWR_",
        "colab": {
          "base_uri": "https://localhost:8080/"
        },
        "outputId": "138d77b3-70f9-4a61-ce24-fd89e2587698"
      },
      "execution_count": null,
      "outputs": [
        {
          "output_type": "stream",
          "name": "stdout",
          "text": [
            "1 2\n",
            "3\n"
          ]
        }
      ]
    },
    {
      "cell_type": "code",
      "source": [
        "a,b = input().split()\n",
        "a = int(a)\n",
        "b = int(b)\n",
        "print(a-b)"
      ],
      "metadata": {
        "id": "7RN3OgpmkWO3",
        "colab": {
          "base_uri": "https://localhost:8080/"
        },
        "outputId": "8fb02f63-3c62-4bd8-d638-1b9b3df11e5d"
      },
      "execution_count": null,
      "outputs": [
        {
          "output_type": "stream",
          "name": "stdout",
          "text": [
            "1 2\n",
            "-1\n"
          ]
        }
      ]
    },
    {
      "cell_type": "code",
      "source": [
        "print(\"Hello World!\")"
      ],
      "metadata": {
        "id": "_HxLWVqykWMA",
        "colab": {
          "base_uri": "https://localhost:8080/"
        },
        "outputId": "7fead381-93cb-4dac-9f66-3a77bf02799c"
      },
      "execution_count": null,
      "outputs": [
        {
          "output_type": "stream",
          "name": "stdout",
          "text": [
            "Hello World!\n"
          ]
        }
      ]
    },
    {
      "cell_type": "code",
      "source": [
        "print(\"강한친구 대한육군\")\n",
        "print(\"강한친구 대한육군\")"
      ],
      "metadata": {
        "id": "UskW9ICgkWJJ",
        "colab": {
          "base_uri": "https://localhost:8080/"
        },
        "outputId": "722b67c6-7921-484d-cb9d-8090a8b840a6"
      },
      "execution_count": null,
      "outputs": [
        {
          "output_type": "stream",
          "name": "stdout",
          "text": [
            "강한친구 대한육군\n",
            "강한친구 대한육군\n"
          ]
        }
      ]
    },
    {
      "cell_type": "code",
      "source": [
        "print(\"\\\\    /\\\\\")\n",
        "print(\" )  ( ')\")\n",
        "print(\"(  /  )\")\n",
        "print(\" \\\\(__)|\")"
      ],
      "metadata": {
        "colab": {
          "base_uri": "https://localhost:8080/"
        },
        "id": "OSaLp92yrPFX",
        "outputId": "ee0462aa-0dc7-4350-ac34-84c99e4a9a51"
      },
      "execution_count": null,
      "outputs": [
        {
          "output_type": "stream",
          "name": "stdout",
          "text": [
            "\\    /\\\n",
            " )  ( ')\n",
            "(  /  )\n",
            " \\(__)|\n"
          ]
        }
      ]
    },
    {
      "cell_type": "code",
      "source": [
        "print(\"|\\_/|\")\n",
        "print(\"|q p|   /}\")\n",
        "print(\"( 0 )\\\"\\\"\\\"\\\\\")\n",
        "print(\"|\\\"^\\\"`    |\")\n",
        "print(\"||_/=\\\\\\__|\")"
      ],
      "metadata": {
        "colab": {
          "base_uri": "https://localhost:8080/"
        },
        "id": "cFwYZhfcrPCw",
        "outputId": "17095225-b56e-4fa5-80e2-c89a7a4d3796"
      },
      "execution_count": null,
      "outputs": [
        {
          "output_type": "stream",
          "name": "stdout",
          "text": [
            "|\\_/|\n",
            "|q p|   /}\n",
            "( 0 )\"\"\"\\\n",
            "|\"^\"`    |\n",
            "||_/=\\\\__|\n"
          ]
        }
      ]
    },
    {
      "cell_type": "code",
      "source": [
        "a,b = input().split()\n",
        "a = int(a)\n",
        "b = int(b)\n",
        "print(a+b)\n",
        "print(a-b)\n",
        "print(a*b)\n",
        "print(a//b)\n",
        "print(a%b)"
      ],
      "metadata": {
        "colab": {
          "base_uri": "https://localhost:8080/"
        },
        "id": "mrEhT1LArO_5",
        "outputId": "3f3a5937-175d-4379-d831-defd58ce0188"
      },
      "execution_count": null,
      "outputs": [
        {
          "output_type": "stream",
          "name": "stdout",
          "text": [
            "5 6\n",
            "11\n",
            "-1\n",
            "30\n",
            "0\n",
            "5\n"
          ]
        }
      ]
    },
    {
      "cell_type": "code",
      "source": [
        "name = input()\n",
        "print(name+\"??!\")"
      ],
      "metadata": {
        "colab": {
          "base_uri": "https://localhost:8080/"
        },
        "id": "UcTsBPvnrO9j",
        "outputId": "98bc9c88-ecb0-4a64-e89a-c1fbcc87add3"
      },
      "execution_count": null,
      "outputs": [
        {
          "output_type": "stream",
          "name": "stdout",
          "text": [
            "joonas\n",
            "joonas??!\n"
          ]
        }
      ]
    },
    {
      "cell_type": "code",
      "source": [
        "age = input()\n",
        "print(int(age)-543)"
      ],
      "metadata": {
        "colab": {
          "base_uri": "https://localhost:8080/"
        },
        "id": "fm-t4WnDrO6s",
        "outputId": "91a51fea-3218-41e6-9946-cf8a93a7b700"
      },
      "execution_count": null,
      "outputs": [
        {
          "output_type": "stream",
          "name": "stdout",
          "text": [
            "2541\n",
            "1998\n"
          ]
        }
      ]
    },
    {
      "cell_type": "code",
      "source": [
        "A,B,C = input().split()\n",
        "A = int(A)\n",
        "B = int(B)\n",
        "C = int(C)\n",
        "result1 = (A+B)%C\n",
        "result2 = ((A%C) + (B%C))%C\n",
        "result3 = (A*B)%C\n",
        "result4 = ((A%C) * (B%C))%C\n",
        "print(result1,result2,result3,result4)\n",
        "\n"
      ],
      "metadata": {
        "colab": {
          "base_uri": "https://localhost:8080/"
        },
        "id": "zdwDQDKurO31",
        "outputId": "bc22d874-a746-4994-c6d3-24fcfa67b97b"
      },
      "execution_count": null,
      "outputs": [
        {
          "output_type": "stream",
          "name": "stdout",
          "text": [
            "5 8 4\n",
            "1 1 0 0\n"
          ]
        }
      ]
    },
    {
      "cell_type": "code",
      "source": [
        "A = int(input())\n",
        "B = input()\n",
        "\n",
        "print(A*int(B[2]))\n",
        "print(A*int(B[1]))\n",
        "print(A*int(B[0]))\n",
        "print(A*int(B))"
      ],
      "metadata": {
        "colab": {
          "base_uri": "https://localhost:8080/"
        },
        "id": "sE1fmqV-rO1O",
        "outputId": "9a4f1f7f-1a99-4647-b5f1-9482571d92d0"
      },
      "execution_count": null,
      "outputs": [
        {
          "output_type": "stream",
          "name": "stdout",
          "text": [
            "472\n",
            "385\n",
            "2360\n",
            "3776\n",
            "1416\n",
            "181720\n"
          ]
        }
      ]
    },
    {
      "cell_type": "code",
      "source": [
        "A = int(input())\n",
        "B = int(input())\n",
        "\n",
        "if A < B:\n",
        "  print(\"<\")\n",
        "elif A > B:\n",
        "  print(\">\")\n",
        "else:\n",
        "  print(\"==\")"
      ],
      "metadata": {
        "colab": {
          "base_uri": "https://localhost:8080/"
        },
        "id": "ExEbh3ZtrOyG",
        "outputId": "adff0080-b63b-41b6-af72-497e31f75839"
      },
      "execution_count": null,
      "outputs": [
        {
          "output_type": "stream",
          "name": "stdout",
          "text": [
            "5\n",
            "5\n",
            "==\n"
          ]
        }
      ]
    },
    {
      "cell_type": "code",
      "source": [
        "score = int(input())\n",
        "\n",
        "if score <= 100 and score >= 90:\n",
        "  hak = \"A\"\n",
        "elif score >= 80:\n",
        "  hak = \"B\"\n",
        "elif score >= 70:\n",
        "  hak = \"C\"\n",
        "elif score >= 60:\n",
        "  hak = \"D\"\n",
        "else:\n",
        "  hak = \"F\"\n",
        "print(f'{hak}')"
      ],
      "metadata": {
        "colab": {
          "base_uri": "https://localhost:8080/"
        },
        "id": "U0lDbpGhrOvP",
        "outputId": "f3077aaa-b7d9-416f-b41a-ba7322f5acf9"
      },
      "execution_count": null,
      "outputs": [
        {
          "output_type": "stream",
          "name": "stdout",
          "text": [
            "80\n",
            "C\n"
          ]
        }
      ]
    },
    {
      "cell_type": "code",
      "source": [
        "year = int(input())\n",
        "\n",
        "if year%4 == 0 and year%100 != 0 or year%400 == 0:\n",
        "    print('1')\n",
        "else:\n",
        "    print('0')"
      ],
      "metadata": {
        "colab": {
          "base_uri": "https://localhost:8080/"
        },
        "id": "mR9AhjqMrOsZ",
        "outputId": "96e83486-6826-4bba-e9f5-ea5a9cc5eb6b"
      },
      "execution_count": null,
      "outputs": [
        {
          "output_type": "stream",
          "name": "stdout",
          "text": [
            "1999\n",
            "0\n"
          ]
        }
      ]
    },
    {
      "cell_type": "code",
      "source": [
        ""
      ],
      "metadata": {
        "id": "CQgPdK08rOpg"
      },
      "execution_count": null,
      "outputs": []
    },
    {
      "cell_type": "code",
      "source": [
        ""
      ],
      "metadata": {
        "id": "yJCk8K2orOmo"
      },
      "execution_count": null,
      "outputs": []
    },
    {
      "cell_type": "code",
      "source": [
        ""
      ],
      "metadata": {
        "id": "sc6heQjLrOkV"
      },
      "execution_count": null,
      "outputs": []
    },
    {
      "cell_type": "code",
      "source": [
        ""
      ],
      "metadata": {
        "id": "uuA3sYarrOhM"
      },
      "execution_count": null,
      "outputs": []
    }
  ]
}